{
 "cells": [
  {
   "cell_type": "markdown",
   "metadata": {},
   "source": [
    "# Dataiku Technical Challenge\n"
   ]
  },
  {
   "cell_type": "markdown",
   "metadata": {},
   "source": [
    "## 0. Imports and Global Variables\n"
   ]
  },
  {
   "cell_type": "code",
   "execution_count": 1,
   "metadata": {},
   "outputs": [],
   "source": [
    "import pandas as pd\n",
    "import numpy as np\n",
    "import xgboost as xgb\n",
    "import torch\n",
    "import torch.nn as nn\n",
    "import torch.optim as optim\n",
    "import seaborn as sns\n",
    "import matplotlib.pyplot as plt\n",
    "import matplotlib.ticker as mticker\n",
    "\n",
    "from sklearn.model_selection import train_test_split\n",
    "from torch.utils.data import DataLoader, TensorDataset\n",
    "from sklearn.preprocessing import OneHotEncoder, StandardScaler\n",
    "from sklearn.ensemble import RandomForestClassifier\n",
    "from sklearn.linear_model import LogisticRegression\n",
    "from sklearn.decomposition import PCA\n",
    "from sklearn.feature_selection import chi2\n",
    "from sklearn.metrics import (\n",
    "    classification_report,\n",
    "    accuracy_score,\n",
    "    precision_score,\n",
    "    recall_score,\n",
    "    f1_score,\n",
    ")\n",
    "\n",
    "DATA_PATH = \"us_census_full/\"\n",
    "TRAIN_PATH = \"\".join([DATA_PATH, \"census_income_learn.csv\"])\n",
    "TEST_PATH = \"\".join([DATA_PATH, \"census_income_test.csv\"])\n",
    "METADATA_PATH = \"\".join([DATA_PATH, \"census_income_metadata.txt\"])\n",
    "\n",
    "palette = [\"#00B2A9\", \"#FFC14D\", \"#012A4A\", \"#F07167\", \"#C8B6FF\"]"
   ]
  },
  {
   "cell_type": "markdown",
   "metadata": {},
   "source": [
    "## 1. Import and Explore Data\n"
   ]
  },
  {
   "cell_type": "markdown",
   "metadata": {},
   "source": [
    "### 1.1 Load the metadata and import the dataset"
   ]
  },
  {
   "cell_type": "code",
   "execution_count": 2,
   "metadata": {},
   "outputs": [],
   "source": [
    "# Get metadata\n",
    "try:\n",
    "    with open(METADATA_PATH, \"r\") as file:\n",
    "        metadata = file.read()\n",
    "except FileNotFoundError:\n",
    "    raise FileNotFoundError(f\"The file at {METADATA_PATH} was not found.\")\n",
    "except Exception as e:\n",
    "    raise Exception(f\"An error occurred: {e}\")\n",
    "\n",
    "# Extract and rename the column names\n",
    "lines = metadata.split(\"\\n\")\n",
    "start_index = 142\n",
    "column_names = []\n",
    "continuous_columns = []\n",
    "categorical_columns = []\n",
    "\n",
    "for line in lines[start_index:]:\n",
    "    # Ignore empty lines or lines not containing column descriptions\n",
    "    if \":\" not in line or line.startswith(\"|\"):\n",
    "        continue\n",
    "    # Extract the column name part before the colon\n",
    "    column_name = line.split(\":\")[0].strip()\n",
    "    # Replace spaces with underscores\n",
    "    column_name = column_name.replace(\" \", \"_\")\n",
    "    column_names.append(column_name)\n",
    "\n",
    "    # Get continuous or categorical columns\n",
    "    if \"continuous.\" in line:\n",
    "        continuous_columns.append(column_name)\n",
    "    else:\n",
    "        categorical_columns.append(column_name)\n",
    "\n",
    "column_names.append(\"income\")"
   ]
  },
  {
   "cell_type": "code",
   "execution_count": 3,
   "metadata": {},
   "outputs": [],
   "source": [
    "# Do not consider instance_weight\n",
    "train_raw_df = pd.read_csv(TRAIN_PATH, names=column_names).drop(\"instance_weight\", axis=1)\n",
    "test_raw_df = pd.read_csv(TEST_PATH, names=column_names).drop(\"instance_weight\", axis=1)\n",
    "column_names.remove(\"instance_weight\")\n",
    "continuous_columns.remove(\"instance_weight\")"
   ]
  },
  {
   "cell_type": "markdown",
   "metadata": {},
   "source": [
    "### 1.2 Numerical description\n",
    "\n",
    "Let's see the repartition of the target variable in our dataset. Indeed we want to predict whether a person is making more or less than $50,000 per year. "
   ]
  },
  {
   "cell_type": "code",
   "execution_count": 4,
   "metadata": {},
   "outputs": [
    {
     "name": "stdout",
     "output_type": "stream",
     "text": [
      "6.21% earn more than 50k per year in the dataset, so 93.79% earn less than 50k.\n"
     ]
    }
   ],
   "source": [
    "# Study the distribution of the target variable\n",
    "total_individuals = len(train_raw_df[\"income\"])\n",
    "more_50 = len(train_raw_df[train_raw_df[\"income\"] == \" 50000+.\"]) / total_individuals * 100\n",
    "less_50 = len(train_raw_df[train_raw_df[\"income\"] == \" - 50000.\"]) / total_individuals * 100\n",
    "\n",
    "print(f\"{more_50:.2f}% earn more than 50k per year in the dataset, so {less_50:.2f}% earn less than 50k.\")"
   ]
  },
  {
   "cell_type": "markdown",
   "metadata": {},
   "source": [
    "Let's see what the majority - earning less than 50k - looks like:"
   ]
  },
  {
   "cell_type": "code",
   "execution_count": 5,
   "metadata": {},
   "outputs": [
    {
     "data": {
      "text/html": [
       "<div>\n",
       "<style scoped>\n",
       "    .dataframe tbody tr th:only-of-type {\n",
       "        vertical-align: middle;\n",
       "    }\n",
       "\n",
       "    .dataframe tbody tr th {\n",
       "        vertical-align: top;\n",
       "    }\n",
       "\n",
       "    .dataframe thead th {\n",
       "        text-align: right;\n",
       "    }\n",
       "</style>\n",
       "<table border=\"1\" class=\"dataframe\">\n",
       "  <thead>\n",
       "    <tr style=\"text-align: right;\">\n",
       "      <th></th>\n",
       "      <th>class_of_worker</th>\n",
       "      <th>education</th>\n",
       "      <th>enroll_in_edu_inst_last_wk</th>\n",
       "      <th>marital_stat</th>\n",
       "      <th>major_industry_code</th>\n",
       "      <th>major_occupation_code</th>\n",
       "      <th>race</th>\n",
       "      <th>hispanic_origin</th>\n",
       "      <th>sex</th>\n",
       "      <th>member_of_a_labor_union</th>\n",
       "      <th>...</th>\n",
       "      <th>migration_code-move_within_reg</th>\n",
       "      <th>live_in_this_house_1_year_ago</th>\n",
       "      <th>migration_prev_res_in_sunbelt</th>\n",
       "      <th>family_members_under_18</th>\n",
       "      <th>country_of_birth_father</th>\n",
       "      <th>country_of_birth_mother</th>\n",
       "      <th>country_of_birth_self</th>\n",
       "      <th>citizenship</th>\n",
       "      <th>fill_inc_questionnaire_for_veteran's_admin</th>\n",
       "      <th>income</th>\n",
       "    </tr>\n",
       "  </thead>\n",
       "  <tbody>\n",
       "    <tr>\n",
       "      <th>count</th>\n",
       "      <td>187141</td>\n",
       "      <td>187141</td>\n",
       "      <td>187141</td>\n",
       "      <td>187141</td>\n",
       "      <td>187141</td>\n",
       "      <td>187141</td>\n",
       "      <td>187141</td>\n",
       "      <td>187141</td>\n",
       "      <td>187141</td>\n",
       "      <td>187141</td>\n",
       "      <td>...</td>\n",
       "      <td>187141</td>\n",
       "      <td>187141</td>\n",
       "      <td>187141</td>\n",
       "      <td>187141</td>\n",
       "      <td>187141</td>\n",
       "      <td>187141</td>\n",
       "      <td>187141</td>\n",
       "      <td>187141</td>\n",
       "      <td>187141</td>\n",
       "      <td>187141</td>\n",
       "    </tr>\n",
       "    <tr>\n",
       "      <th>unique</th>\n",
       "      <td>9</td>\n",
       "      <td>17</td>\n",
       "      <td>3</td>\n",
       "      <td>7</td>\n",
       "      <td>24</td>\n",
       "      <td>15</td>\n",
       "      <td>5</td>\n",
       "      <td>10</td>\n",
       "      <td>2</td>\n",
       "      <td>3</td>\n",
       "      <td>...</td>\n",
       "      <td>10</td>\n",
       "      <td>3</td>\n",
       "      <td>4</td>\n",
       "      <td>5</td>\n",
       "      <td>43</td>\n",
       "      <td>43</td>\n",
       "      <td>43</td>\n",
       "      <td>5</td>\n",
       "      <td>3</td>\n",
       "      <td>1</td>\n",
       "    </tr>\n",
       "    <tr>\n",
       "      <th>top</th>\n",
       "      <td>Not in universe</td>\n",
       "      <td>Children</td>\n",
       "      <td>Not in universe</td>\n",
       "      <td>Never married</td>\n",
       "      <td>Not in universe or children</td>\n",
       "      <td>Not in universe</td>\n",
       "      <td>White</td>\n",
       "      <td>All other</td>\n",
       "      <td>Female</td>\n",
       "      <td>Not in universe</td>\n",
       "      <td>...</td>\n",
       "      <td>?</td>\n",
       "      <td>Not in universe under 1 year old</td>\n",
       "      <td>?</td>\n",
       "      <td>Not in universe</td>\n",
       "      <td>United-States</td>\n",
       "      <td>United-States</td>\n",
       "      <td>United-States</td>\n",
       "      <td>Native- Born in the United States</td>\n",
       "      <td>Not in universe</td>\n",
       "      <td>- 50000.</td>\n",
       "    </tr>\n",
       "    <tr>\n",
       "      <th>freq</th>\n",
       "      <td>99341</td>\n",
       "      <td>47422</td>\n",
       "      <td>174591</td>\n",
       "      <td>85368</td>\n",
       "      <td>99778</td>\n",
       "      <td>99778</td>\n",
       "      <td>156093</td>\n",
       "      <td>160140</td>\n",
       "      <td>101321</td>\n",
       "      <td>170311</td>\n",
       "      <td>...</td>\n",
       "      <td>93153</td>\n",
       "      <td>94669</td>\n",
       "      <td>93153</td>\n",
       "      <td>131852</td>\n",
       "      <td>148861</td>\n",
       "      <td>150091</td>\n",
       "      <td>165840</td>\n",
       "      <td>165843</td>\n",
       "      <td>185388</td>\n",
       "      <td>187141</td>\n",
       "    </tr>\n",
       "  </tbody>\n",
       "</table>\n",
       "<p>4 rows × 29 columns</p>\n",
       "</div>"
      ],
      "text/plain": [
       "         class_of_worker  education enroll_in_edu_inst_last_wk  \\\n",
       "count             187141     187141                     187141   \n",
       "unique                 9         17                          3   \n",
       "top      Not in universe   Children            Not in universe   \n",
       "freq               99341      47422                     174591   \n",
       "\n",
       "          marital_stat           major_industry_code major_occupation_code  \\\n",
       "count           187141                        187141                187141   \n",
       "unique               7                            24                    15   \n",
       "top      Never married   Not in universe or children       Not in universe   \n",
       "freq             85368                         99778                 99778   \n",
       "\n",
       "          race hispanic_origin      sex member_of_a_labor_union  ...  \\\n",
       "count   187141          187141   187141                  187141  ...   \n",
       "unique       5              10        2                       3  ...   \n",
       "top      White       All other   Female         Not in universe  ...   \n",
       "freq    156093          160140   101321                  170311  ...   \n",
       "\n",
       "       migration_code-move_within_reg      live_in_this_house_1_year_ago  \\\n",
       "count                          187141                             187141   \n",
       "unique                             10                                  3   \n",
       "top                                 ?   Not in universe under 1 year old   \n",
       "freq                            93153                              94669   \n",
       "\n",
       "       migration_prev_res_in_sunbelt family_members_under_18  \\\n",
       "count                         187141                  187141   \n",
       "unique                             4                       5   \n",
       "top                                ?         Not in universe   \n",
       "freq                           93153                  131852   \n",
       "\n",
       "       country_of_birth_father country_of_birth_mother country_of_birth_self  \\\n",
       "count                   187141                  187141                187141   \n",
       "unique                      43                      43                    43   \n",
       "top              United-States           United-States         United-States   \n",
       "freq                    148861                  150091                165840   \n",
       "\n",
       "                               citizenship  \\\n",
       "count                               187141   \n",
       "unique                                   5   \n",
       "top      Native- Born in the United States   \n",
       "freq                                165843   \n",
       "\n",
       "       fill_inc_questionnaire_for_veteran's_admin     income  \n",
       "count                                      187141     187141  \n",
       "unique                                          3          1  \n",
       "top                               Not in universe   - 50000.  \n",
       "freq                                       185388     187141  \n",
       "\n",
       "[4 rows x 29 columns]"
      ]
     },
     "execution_count": 5,
     "metadata": {},
     "output_type": "execute_result"
    }
   ],
   "source": [
    "train_raw_df[train_raw_df[\"income\"] == \" - 50000.\"].describe(include=\"object\")"
   ]
  },
  {
   "cell_type": "markdown",
   "metadata": {},
   "source": [
    "Let's see what the minority - earning more than 50k - looks like:"
   ]
  },
  {
   "cell_type": "code",
   "execution_count": 6,
   "metadata": {},
   "outputs": [
    {
     "data": {
      "text/html": [
       "<div>\n",
       "<style scoped>\n",
       "    .dataframe tbody tr th:only-of-type {\n",
       "        vertical-align: middle;\n",
       "    }\n",
       "\n",
       "    .dataframe tbody tr th {\n",
       "        vertical-align: top;\n",
       "    }\n",
       "\n",
       "    .dataframe thead th {\n",
       "        text-align: right;\n",
       "    }\n",
       "</style>\n",
       "<table border=\"1\" class=\"dataframe\">\n",
       "  <thead>\n",
       "    <tr style=\"text-align: right;\">\n",
       "      <th></th>\n",
       "      <th>class_of_worker</th>\n",
       "      <th>education</th>\n",
       "      <th>enroll_in_edu_inst_last_wk</th>\n",
       "      <th>marital_stat</th>\n",
       "      <th>major_industry_code</th>\n",
       "      <th>major_occupation_code</th>\n",
       "      <th>race</th>\n",
       "      <th>hispanic_origin</th>\n",
       "      <th>sex</th>\n",
       "      <th>member_of_a_labor_union</th>\n",
       "      <th>...</th>\n",
       "      <th>migration_code-move_within_reg</th>\n",
       "      <th>live_in_this_house_1_year_ago</th>\n",
       "      <th>migration_prev_res_in_sunbelt</th>\n",
       "      <th>family_members_under_18</th>\n",
       "      <th>country_of_birth_father</th>\n",
       "      <th>country_of_birth_mother</th>\n",
       "      <th>country_of_birth_self</th>\n",
       "      <th>citizenship</th>\n",
       "      <th>fill_inc_questionnaire_for_veteran's_admin</th>\n",
       "      <th>income</th>\n",
       "    </tr>\n",
       "  </thead>\n",
       "  <tbody>\n",
       "    <tr>\n",
       "      <th>count</th>\n",
       "      <td>12382</td>\n",
       "      <td>12382</td>\n",
       "      <td>12382</td>\n",
       "      <td>12382</td>\n",
       "      <td>12382</td>\n",
       "      <td>12382</td>\n",
       "      <td>12382</td>\n",
       "      <td>12382</td>\n",
       "      <td>12382</td>\n",
       "      <td>12382</td>\n",
       "      <td>...</td>\n",
       "      <td>12382</td>\n",
       "      <td>12382</td>\n",
       "      <td>12382</td>\n",
       "      <td>12382</td>\n",
       "      <td>12382</td>\n",
       "      <td>12382</td>\n",
       "      <td>12382</td>\n",
       "      <td>12382</td>\n",
       "      <td>12382</td>\n",
       "      <td>12382</td>\n",
       "    </tr>\n",
       "    <tr>\n",
       "      <th>unique</th>\n",
       "      <td>9</td>\n",
       "      <td>16</td>\n",
       "      <td>3</td>\n",
       "      <td>7</td>\n",
       "      <td>24</td>\n",
       "      <td>15</td>\n",
       "      <td>5</td>\n",
       "      <td>10</td>\n",
       "      <td>2</td>\n",
       "      <td>3</td>\n",
       "      <td>...</td>\n",
       "      <td>9</td>\n",
       "      <td>3</td>\n",
       "      <td>4</td>\n",
       "      <td>2</td>\n",
       "      <td>42</td>\n",
       "      <td>42</td>\n",
       "      <td>42</td>\n",
       "      <td>5</td>\n",
       "      <td>3</td>\n",
       "      <td>1</td>\n",
       "    </tr>\n",
       "    <tr>\n",
       "      <th>top</th>\n",
       "      <td>Private</td>\n",
       "      <td>Bachelors degree(BA AB BS)</td>\n",
       "      <td>Not in universe</td>\n",
       "      <td>Married-civilian spouse present</td>\n",
       "      <td>Manufacturing-durable goods</td>\n",
       "      <td>Executive admin and managerial</td>\n",
       "      <td>White</td>\n",
       "      <td>All other</td>\n",
       "      <td>Male</td>\n",
       "      <td>Not in universe</td>\n",
       "      <td>...</td>\n",
       "      <td>?</td>\n",
       "      <td>Not in universe under 1 year old</td>\n",
       "      <td>?</td>\n",
       "      <td>Not in universe</td>\n",
       "      <td>United-States</td>\n",
       "      <td>United-States</td>\n",
       "      <td>United-States</td>\n",
       "      <td>Native- Born in the United States</td>\n",
       "      <td>Not in universe</td>\n",
       "      <td>50000+.</td>\n",
       "    </tr>\n",
       "    <tr>\n",
       "      <th>freq</th>\n",
       "      <td>7322</td>\n",
       "      <td>3915</td>\n",
       "      <td>12352</td>\n",
       "      <td>9600</td>\n",
       "      <td>1494</td>\n",
       "      <td>3593</td>\n",
       "      <td>11272</td>\n",
       "      <td>11767</td>\n",
       "      <td>9719</td>\n",
       "      <td>10148</td>\n",
       "      <td>...</td>\n",
       "      <td>6543</td>\n",
       "      <td>6543</td>\n",
       "      <td>6543</td>\n",
       "      <td>12380</td>\n",
       "      <td>10302</td>\n",
       "      <td>10388</td>\n",
       "      <td>11149</td>\n",
       "      <td>11149</td>\n",
       "      <td>12151</td>\n",
       "      <td>12382</td>\n",
       "    </tr>\n",
       "  </tbody>\n",
       "</table>\n",
       "<p>4 rows × 29 columns</p>\n",
       "</div>"
      ],
      "text/plain": [
       "       class_of_worker                    education  \\\n",
       "count            12382                        12382   \n",
       "unique               9                           16   \n",
       "top            Private   Bachelors degree(BA AB BS)   \n",
       "freq              7322                         3915   \n",
       "\n",
       "       enroll_in_edu_inst_last_wk                      marital_stat  \\\n",
       "count                       12382                             12382   \n",
       "unique                          3                                 7   \n",
       "top               Not in universe   Married-civilian spouse present   \n",
       "freq                        12352                              9600   \n",
       "\n",
       "                 major_industry_code            major_occupation_code    race  \\\n",
       "count                          12382                            12382   12382   \n",
       "unique                            24                               15       5   \n",
       "top      Manufacturing-durable goods   Executive admin and managerial   White   \n",
       "freq                            1494                             3593   11272   \n",
       "\n",
       "       hispanic_origin    sex member_of_a_labor_union  ...  \\\n",
       "count            12382  12382                   12382  ...   \n",
       "unique              10      2                       3  ...   \n",
       "top          All other   Male         Not in universe  ...   \n",
       "freq             11767   9719                   10148  ...   \n",
       "\n",
       "       migration_code-move_within_reg      live_in_this_house_1_year_ago  \\\n",
       "count                           12382                              12382   \n",
       "unique                              9                                  3   \n",
       "top                                 ?   Not in universe under 1 year old   \n",
       "freq                             6543                               6543   \n",
       "\n",
       "       migration_prev_res_in_sunbelt family_members_under_18  \\\n",
       "count                          12382                   12382   \n",
       "unique                             4                       2   \n",
       "top                                ?         Not in universe   \n",
       "freq                            6543                   12380   \n",
       "\n",
       "       country_of_birth_father country_of_birth_mother country_of_birth_self  \\\n",
       "count                    12382                   12382                 12382   \n",
       "unique                      42                      42                    42   \n",
       "top              United-States           United-States         United-States   \n",
       "freq                     10302                   10388                 11149   \n",
       "\n",
       "                               citizenship  \\\n",
       "count                                12382   \n",
       "unique                                   5   \n",
       "top      Native- Born in the United States   \n",
       "freq                                 11149   \n",
       "\n",
       "       fill_inc_questionnaire_for_veteran's_admin    income  \n",
       "count                                       12382     12382  \n",
       "unique                                          3         1  \n",
       "top                               Not in universe   50000+.  \n",
       "freq                                        12151     12382  \n",
       "\n",
       "[4 rows x 29 columns]"
      ]
     },
     "execution_count": 6,
     "metadata": {},
     "output_type": "execute_result"
    }
   ],
   "source": [
    "train_raw_df[train_raw_df[\"income\"] == \" 50000+.\"].describe(include=\"object\")"
   ]
  },
  {
   "cell_type": "markdown",
   "metadata": {},
   "source": [
    "The majority earning less than 50k is composed of children, so many categories are defined by *Not in Universe*, they are in majority composed of white, female and Native-Born in the United States (as well as their parents). The majority earning more than 50k is composed of people working in a private sector, having a Bachelors degree, white, male and Native-Born in the United States (and their mother and father as well)."
   ]
  },
  {
   "cell_type": "markdown",
   "metadata": {},
   "source": [
    "Let's see what the continuous features can tell us about the whole dataset:"
   ]
  },
  {
   "cell_type": "code",
   "execution_count": 7,
   "metadata": {},
   "outputs": [
    {
     "data": {
      "text/html": [
       "<div>\n",
       "<style scoped>\n",
       "    .dataframe tbody tr th:only-of-type {\n",
       "        vertical-align: middle;\n",
       "    }\n",
       "\n",
       "    .dataframe tbody tr th {\n",
       "        vertical-align: top;\n",
       "    }\n",
       "\n",
       "    .dataframe thead th {\n",
       "        text-align: right;\n",
       "    }\n",
       "</style>\n",
       "<table border=\"1\" class=\"dataframe\">\n",
       "  <thead>\n",
       "    <tr style=\"text-align: right;\">\n",
       "      <th></th>\n",
       "      <th>age</th>\n",
       "      <th>wage_per_hour</th>\n",
       "      <th>capital_gains</th>\n",
       "      <th>capital_losses</th>\n",
       "      <th>dividends_from_stocks</th>\n",
       "      <th>num_persons_worked_for_employer</th>\n",
       "      <th>weeks_worked_in_year</th>\n",
       "    </tr>\n",
       "  </thead>\n",
       "  <tbody>\n",
       "    <tr>\n",
       "      <th>count</th>\n",
       "      <td>199523.000000</td>\n",
       "      <td>199523.000000</td>\n",
       "      <td>199523.00000</td>\n",
       "      <td>199523.000000</td>\n",
       "      <td>199523.000000</td>\n",
       "      <td>199523.000000</td>\n",
       "      <td>199523.000000</td>\n",
       "    </tr>\n",
       "    <tr>\n",
       "      <th>mean</th>\n",
       "      <td>34.494199</td>\n",
       "      <td>55.426908</td>\n",
       "      <td>434.71899</td>\n",
       "      <td>37.313788</td>\n",
       "      <td>197.529533</td>\n",
       "      <td>1.956180</td>\n",
       "      <td>23.174897</td>\n",
       "    </tr>\n",
       "    <tr>\n",
       "      <th>std</th>\n",
       "      <td>22.310895</td>\n",
       "      <td>274.896454</td>\n",
       "      <td>4697.53128</td>\n",
       "      <td>271.896428</td>\n",
       "      <td>1984.163658</td>\n",
       "      <td>2.365126</td>\n",
       "      <td>24.411488</td>\n",
       "    </tr>\n",
       "    <tr>\n",
       "      <th>min</th>\n",
       "      <td>0.000000</td>\n",
       "      <td>0.000000</td>\n",
       "      <td>0.00000</td>\n",
       "      <td>0.000000</td>\n",
       "      <td>0.000000</td>\n",
       "      <td>0.000000</td>\n",
       "      <td>0.000000</td>\n",
       "    </tr>\n",
       "    <tr>\n",
       "      <th>25%</th>\n",
       "      <td>15.000000</td>\n",
       "      <td>0.000000</td>\n",
       "      <td>0.00000</td>\n",
       "      <td>0.000000</td>\n",
       "      <td>0.000000</td>\n",
       "      <td>0.000000</td>\n",
       "      <td>0.000000</td>\n",
       "    </tr>\n",
       "    <tr>\n",
       "      <th>50%</th>\n",
       "      <td>33.000000</td>\n",
       "      <td>0.000000</td>\n",
       "      <td>0.00000</td>\n",
       "      <td>0.000000</td>\n",
       "      <td>0.000000</td>\n",
       "      <td>1.000000</td>\n",
       "      <td>8.000000</td>\n",
       "    </tr>\n",
       "    <tr>\n",
       "      <th>75%</th>\n",
       "      <td>50.000000</td>\n",
       "      <td>0.000000</td>\n",
       "      <td>0.00000</td>\n",
       "      <td>0.000000</td>\n",
       "      <td>0.000000</td>\n",
       "      <td>4.000000</td>\n",
       "      <td>52.000000</td>\n",
       "    </tr>\n",
       "    <tr>\n",
       "      <th>max</th>\n",
       "      <td>90.000000</td>\n",
       "      <td>9999.000000</td>\n",
       "      <td>99999.00000</td>\n",
       "      <td>4608.000000</td>\n",
       "      <td>99999.000000</td>\n",
       "      <td>6.000000</td>\n",
       "      <td>52.000000</td>\n",
       "    </tr>\n",
       "  </tbody>\n",
       "</table>\n",
       "</div>"
      ],
      "text/plain": [
       "                 age  wage_per_hour  capital_gains  capital_losses  \\\n",
       "count  199523.000000  199523.000000   199523.00000   199523.000000   \n",
       "mean       34.494199      55.426908      434.71899       37.313788   \n",
       "std        22.310895     274.896454     4697.53128      271.896428   \n",
       "min         0.000000       0.000000        0.00000        0.000000   \n",
       "25%        15.000000       0.000000        0.00000        0.000000   \n",
       "50%        33.000000       0.000000        0.00000        0.000000   \n",
       "75%        50.000000       0.000000        0.00000        0.000000   \n",
       "max        90.000000    9999.000000    99999.00000     4608.000000   \n",
       "\n",
       "       dividends_from_stocks  num_persons_worked_for_employer  \\\n",
       "count          199523.000000                    199523.000000   \n",
       "mean              197.529533                         1.956180   \n",
       "std              1984.163658                         2.365126   \n",
       "min                 0.000000                         0.000000   \n",
       "25%                 0.000000                         0.000000   \n",
       "50%                 0.000000                         1.000000   \n",
       "75%                 0.000000                         4.000000   \n",
       "max             99999.000000                         6.000000   \n",
       "\n",
       "       weeks_worked_in_year  \n",
       "count         199523.000000  \n",
       "mean              23.174897  \n",
       "std               24.411488  \n",
       "min                0.000000  \n",
       "25%                0.000000  \n",
       "50%                8.000000  \n",
       "75%               52.000000  \n",
       "max               52.000000  "
      ]
     },
     "execution_count": 7,
     "metadata": {},
     "output_type": "execute_result"
    }
   ],
   "source": [
    "# Describe makes more sense for continuous features \n",
    "train_raw_df[continuous_columns].describe()"
   ]
  },
  {
   "cell_type": "markdown",
   "metadata": {},
   "source": [
    "From this, we notice that this dataset is composed of people of average ~34 year old, earning ~55 dollars per hour and working in average 23 weeks per year. Let's dive a bit into those numbers to see what is behind."
   ]
  },
  {
   "cell_type": "markdown",
   "metadata": {},
   "source": [
    "### 1.3 Graphical Descriptions"
   ]
  },
  {
   "cell_type": "markdown",
   "metadata": {},
   "source": [
    "#### Repartition of the income category "
   ]
  },
  {
   "cell_type": "markdown",
   "metadata": {},
   "source": [
    "Let's visualise the unbalanced income distribution to have a better view."
   ]
  },
  {
   "cell_type": "code",
   "execution_count": 8,
   "metadata": {},
   "outputs": [
    {
     "data": {
      "text/plain": [
       "<Axes: xlabel='income', ylabel='Percent'>"
      ]
     },
     "execution_count": 8,
     "metadata": {},
     "output_type": "execute_result"
    },
    {
     "data": {
      "image/png": "[encoded data removed]",
      "text/plain": [
       "<Figure size 640x480 with 1 Axes>"
      ]
     },
     "metadata": {},
     "output_type": "display_data"
    }
   ],
   "source": [
    "# Calculate the counts of each income category\n",
    "sns.histplot(data=train_raw_df, x=\"income\", stat=\"percent\", discrete=True, shrink=.8, color=palette[0])"
   ]
  },
  {
   "cell_type": "markdown",
   "metadata": {},
   "source": [
    "#### Income regarding age"
   ]
  },
  {
   "cell_type": "markdown",
   "metadata": {},
   "source": [
    "Let's visualise the age repartition in the dataset, and let's highlight the income category to help us understand."
   ]
  },
  {
   "cell_type": "code",
   "execution_count": 10,
   "metadata": {},
   "outputs": [
    {
     "name": "stderr",
     "output_type": "stream",
     "text": [
      "/var/folders/cv/ymhktwm96wd7ygk2lpb670mr0000gn/T/ipykernel_68864/107540606.py:1: UserWarning: The palette list has more values (5) than needed (2), which may not be intended.\n",
      "  sns.displot(train_raw_df, x=\"age\", bins=age_range_5, hue=\"income\", palette=palette,\n"
     ]
    },
    {
     "data": {
      "image/png": "[encoded data removed]",
      "text/plain": [
       "<Figure size 1314.12x800 with 1 Axes>"
      ]
     },
     "metadata": {},
     "output_type": "display_data"
    }
   ],
   "source": [
    "# make group of ages spaced by 5 years\n",
    "age_range_5 = list(range(train_raw_df[\"age\"].min(), train_raw_df[\"age\"].max()+1, 5))\n",
    "\n",
    "sns.displot(train_raw_df, x=\"age\", bins=age_range_5, hue=\"income\", palette=palette,\n",
    "            multiple=\"stack\", edgecolor=\"white\", linewidth=0.8, height=8, aspect=1.5)\n",
    "plt.xticks(range(0, max(train_raw_df[\"age\"]) + 10, 10))\n",
    "plt.show()"
   ]
  },
  {
   "cell_type": "markdown",
   "metadata": {},
   "source": [
    "We notice that the distribution of people earning more than 50'000$ is centered around 45 year old which is higher than for the people earning less than 50'000$.\n",
    "We also see a dip in population around 20-25 years old."
   ]
  },
  {
   "cell_type": "markdown",
   "metadata": {},
   "source": [
    "### Sex and income"
   ]
  },
  {
   "cell_type": "code",
   "execution_count": 11,
   "metadata": {},
   "outputs": [
    {
     "data": {
      "image/png": "[encoded data removed]",
      "text/plain": [
       "<Figure size 1000x600 with 1 Axes>"
      ]
     },
     "metadata": {},
     "output_type": "display_data"
    }
   ],
   "source": [
    "proportion_data = (\n",
    "    train_raw_df.groupby([\"income\", \"sex\"])\n",
    "    .size()  \n",
    "    .unstack()  \n",
    "    .apply(lambda x: x / x.sum(), axis=1)  \n",
    ")\n",
    "\n",
    "# bar char for sex distribution\n",
    "proportion_data.plot(kind='bar', stacked=True, color=palette, figsize=(10, 6))\n",
    "\n",
    "plt.title(\"Proportion of Males and Females in Each Income Category\")\n",
    "plt.xlabel(\"Income Category\")\n",
    "plt.ylabel(\"Proportion\")\n",
    "plt.legend(title=\"Sex\")\n",
    "plt.xticks(rotation=0)\n",
    "\n",
    "plt.show()"
   ]
  },
  {
   "cell_type": "code",
   "execution_count": 12,
   "metadata": {},
   "outputs": [
    {
     "data": {
      "image/png": "[encoded data removed]",
      "text/plain": [
       "<Figure size 1400x700 with 2 Axes>"
      ]
     },
     "metadata": {},
     "output_type": "display_data"
    }
   ],
   "source": [
    "# Filter the DataFrame for each income category\n",
    "less_than_50k_df = train_raw_df[train_raw_df[\"income\"] == \" - 50000.\"]\n",
    "more_than_50k_df = train_raw_df[train_raw_df[\"income\"] == \" 50000+.\"]\n",
    "\n",
    "# Calculate the counts \n",
    "sex_counts_less_than_50k = less_than_50k_df[\"sex\"].value_counts()\n",
    "sex_counts_more_than_50k = more_than_50k_df[\"sex\"].value_counts()\n",
    "\n",
    "plt.figure(figsize=(14, 7))\n",
    "\n",
    "# Pie chart for income less than or equal to 50K\n",
    "plt.subplot(1, 2, 1)  \n",
    "plt.pie(sex_counts_less_than_50k, autopct='%1.1f%%', startangle=140, colors=[palette[0], palette[1]])\n",
    "plt.title(\"Earn 50'000$ or less\")\n",
    "\n",
    "# Pie chart for income more than 50K\n",
    "plt.subplot(1, 2, 2)  \n",
    "plt.pie(sex_counts_more_than_50k, autopct='%1.1f%%', startangle=140, colors=[palette[1],palette[0]])\n",
    "plt.title(\"Earn more than 50'000$\")\n",
    "\n",
    "plt.figlegend(sex_counts_less_than_50k.index, loc=\"upper right\", title=\"Sex\", borderpad=2)\n",
    "plt.tight_layout()\n",
    "\n",
    "plt.savefig(\"figures/distribution_sex.png\", dpi=300)\n",
    "plt.show()"
   ]
  },
  {
   "cell_type": "markdown",
   "metadata": {},
   "source": [
    "For the income lower than 50'000$, we have a balanced sex distribution. But for an income higher than 50'000$, we have a significantly higher male population."
   ]
  },
  {
   "cell_type": "markdown",
   "metadata": {},
   "source": [
    "#### Race regarding outcome"
   ]
  },
  {
   "cell_type": "code",
   "execution_count": 13,
   "metadata": {},
   "outputs": [
    {
     "data": {
      "image/png": "[encoded data removed]",
      "text/plain": [
       "<Figure size 400x800 with 1 Axes>"
      ]
     },
     "metadata": {},
     "output_type": "display_data"
    }
   ],
   "source": [
    "# Get data\n",
    "proportion_data = (\n",
    "    pd.DataFrame(train_raw_df.groupby([\"race\"]).count()[\"age\"])\n",
    "    .sort_values(by=\"age\", ascending=False)\n",
    "    .T\n",
    ")\n",
    "proportion_data = proportion_data / len(train_raw_df) * 100\n",
    "proportion_data = proportion_data.reset_index().drop([\"index\"], axis=1)\n",
    "\n",
    "# Plot\n",
    "ax = proportion_data.plot(\n",
    "    kind=\"bar\", stacked=True, color=palette, figsize=(4, 8), legend=False\n",
    ")\n",
    "\n",
    "# Add percentage values on the middle of each stacked color with two decimal places\n",
    "for i, container in enumerate(ax.containers):\n",
    "    color = palette[i] if i > 3 else \"white\"\n",
    "    padding = 8 if i > 3 else 0\n",
    "    ax.bar_label(\n",
    "        container,\n",
    "        label_type=\"center\",\n",
    "        fmt=lambda x: f\"{x:.2f}%\",\n",
    "        color=color,\n",
    "        padding=padding,\n",
    "        fontsize=8,\n",
    "    )\n",
    "\n",
    "plt.gca().yaxis.set_major_formatter(mticker.PercentFormatter())\n",
    "plt.savefig(\"figures/race_stacked.png\", format=\"png\", dpi=300)\n",
    "plt.show()"
   ]
  },
  {
   "cell_type": "markdown",
   "metadata": {},
   "source": [
    "We notice that our distribution is mostly composed of white population (83.88%). It would be interesting to see if inside the distributions we have a different repartition of income class."
   ]
  },
  {
   "cell_type": "code",
   "execution_count": 14,
   "metadata": {},
   "outputs": [
    {
     "name": "stderr",
     "output_type": "stream",
     "text": [
      "/var/folders/cv/ymhktwm96wd7ygk2lpb670mr0000gn/T/ipykernel_68864/2278840632.py:21: UserWarning: set_ticklabels() should only be used with a fixed number of ticks, i.e. after set_ticks() or using a FixedLocator.\n",
      "  ax.set_yticklabels([\"{:,.0%}\".format(x) for x in ticks])\n",
      "/var/folders/cv/ymhktwm96wd7ygk2lpb670mr0000gn/T/ipykernel_68864/2278840632.py:21: UserWarning: set_ticklabels() should only be used with a fixed number of ticks, i.e. after set_ticks() or using a FixedLocator.\n",
      "  ax.set_yticklabels([\"{:,.0%}\".format(x) for x in ticks])\n",
      "/var/folders/cv/ymhktwm96wd7ygk2lpb670mr0000gn/T/ipykernel_68864/2278840632.py:21: UserWarning: set_ticklabels() should only be used with a fixed number of ticks, i.e. after set_ticks() or using a FixedLocator.\n",
      "  ax.set_yticklabels([\"{:,.0%}\".format(x) for x in ticks])\n",
      "/var/folders/cv/ymhktwm96wd7ygk2lpb670mr0000gn/T/ipykernel_68864/2278840632.py:21: UserWarning: set_ticklabels() should only be used with a fixed number of ticks, i.e. after set_ticks() or using a FixedLocator.\n",
      "  ax.set_yticklabels([\"{:,.0%}\".format(x) for x in ticks])\n",
      "/var/folders/cv/ymhktwm96wd7ygk2lpb670mr0000gn/T/ipykernel_68864/2278840632.py:21: UserWarning: set_ticklabels() should only be used with a fixed number of ticks, i.e. after set_ticks() or using a FixedLocator.\n",
      "  ax.set_yticklabels([\"{:,.0%}\".format(x) for x in ticks])\n"
     ]
    },
    {
     "data": {
      "image/png": "[encoded data removed]",
      "text/plain": [
       "<Figure size 300x750 with 5 Axes>"
      ]
     },
     "metadata": {},
     "output_type": "display_data"
    }
   ],
   "source": [
    "# Initialize subplots\n",
    "fig, axs = plt.subplots(len(proportion_data.columns), 1, figsize=(3, len(proportion_data.columns) * 1.5))\n",
    "fig.tight_layout(pad=3.0)\n",
    "\n",
    "for i, race in enumerate(list(proportion_data.columns)[::-1]):\n",
    "    # Filter the dataframe for the current race\n",
    "    race_data = train_raw_df[train_raw_df[\"race\"] == race]\n",
    "\n",
    "    # Calculate the proportion of each income category within the current race\n",
    "    income_proportion = race_data.groupby(\"income\")[\"age\"].count() / len(race_data)\n",
    "    income_proportion = round(income_proportion, 2).to_frame(name=\"proportion\")\n",
    "\n",
    "    # Plotting on the ith subplot\n",
    "    ax = axs[i]\n",
    "    income_proportion.plot(kind=\"bar\", color=palette[-(i+1)], ax=ax, legend=None)\n",
    "    ax.set_xticklabels(income_proportion.index, rotation=0)\n",
    "    ax.set_ylim([0, 1.1])\n",
    "\n",
    "    # Format y-axis labels as percentages\n",
    "    ticks = ax.get_yticks()\n",
    "    ax.set_yticklabels([\"{:,.0%}\".format(x) for x in ticks])\n",
    "\n",
    "    # Remove the x-axis label\n",
    "    ax.set_xlabel('')\n",
    "\n",
    "    # Annotate bars with percentage values\n",
    "    for index, proportion in enumerate(income_proportion[\"proportion\"]):\n",
    "        ax.text(\n",
    "            index,\n",
    "            0.7 if index == 0 else 0.15,\n",
    "            \"{:,.0%}\".format(proportion),\n",
    "            ha=\"center\",\n",
    "            color=\"white\" if index == 0 else palette[-(i+1)],\n",
    "        )\n",
    "\n",
    "    # Title\n",
    "    ax.set_title(f\"Race:{race}\", fontsize=10)\n",
    "\n",
    "plt.savefig('figures/race_multiple.png', format='png', dpi=300)\n",
    "plt.show()"
   ]
  },
  {
   "cell_type": "markdown",
   "metadata": {},
   "source": [
    "We notice that White and Asian/Pacific have a higher proportion of population with high income (7% vs. 2-3%)."
   ]
  },
  {
   "cell_type": "markdown",
   "metadata": {},
   "source": [
    "#### Income regarding industry sectors"
   ]
  },
  {
   "cell_type": "code",
   "execution_count": 15,
   "metadata": {},
   "outputs": [
    {
     "data": {
      "text/plain": [
       "<Axes: xlabel='major_industry_code'>"
      ]
     },
     "execution_count": 15,
     "metadata": {},
     "output_type": "execute_result"
    },
    {
     "data": {
      "image/png": "[encoded data removed]",
      "text/plain": [
       "<Figure size 800x400 with 1 Axes>"
      ]
     },
     "metadata": {},
     "output_type": "display_data"
    }
   ],
   "source": [
    "proportion_data = (\n",
    "    pd.DataFrame(\n",
    "        train_raw_df[\n",
    "            train_raw_df[\"major_industry_code\"] != \" Not in universe or children\"\n",
    "        ]\n",
    "        .groupby([\"major_industry_code\"])\n",
    "        .count()[\"age\"]\n",
    "    )\n",
    "    .sort_values(by=\"age\", ascending=False)\n",
    ")\n",
    "\n",
    "proportion_data.plot(kind=\"bar\", stacked=True, color=palette, figsize=(8, 4), legend=False)"
   ]
  },
  {
   "cell_type": "markdown",
   "metadata": {},
   "source": [
    "We visualise the sectors where people work the most for. Let's see inside the income revenue category which industries are the most represented:"
   ]
  },
  {
   "cell_type": "code",
   "execution_count": 16,
   "metadata": {},
   "outputs": [
    {
     "data": {
      "image/png": "[encoded data removed]",
      "text/plain": [
       "<Figure size 1600x800 with 2 Axes>"
      ]
     },
     "metadata": {},
     "output_type": "display_data"
    }
   ],
   "source": [
    "fig, axes = plt.subplots(nrows=1, ncols=2, figsize=(16, 8))\n",
    "\n",
    "# Split the data based on income\n",
    "for index, income_value in enumerate(train_raw_df[\"income\"].unique()):\n",
    "    filtered_data = (\n",
    "        pd.DataFrame(\n",
    "            train_raw_df[\n",
    "                (train_raw_df[\"major_industry_code\"] != \" Not in universe or children\")\n",
    "                & (train_raw_df[\"income\"] == income_value)\n",
    "            ]\n",
    "            .groupby([\"major_industry_code\"])\n",
    "            .count()[\"age\"]\n",
    "        )\n",
    "        .sort_values(by=\"age\", ascending=False)\n",
    "        .head(5)\n",
    "        .iloc[::-1]\n",
    "    )\n",
    "\n",
    "    # Plot the filtered data\n",
    "    bars = filtered_data.plot(kind=\"barh\", ax=axes[index], color=palette, legend=False)\n",
    "    axes[index].set_title(f\"Top 5 Industries for: {income_value}\")\n",
    "\n",
    "    # Add 20% to xlim\n",
    "    max_width = max([bar.get_width() for bar in bars.patches])\n",
    "    axes[index].set_xlim(0, max_width * 1.2)\n",
    "\n",
    "    # Remove the axis tick labels and title\n",
    "    axes[index].get_yaxis().set_ticklabels([])\n",
    "    axes[index].set_ylabel('')\n",
    "    axes[index].set_xlabel('Count')\n",
    "\n",
    "    # Add text annotation and percentage for each label\n",
    "    for bar, label in zip(bars.patches, filtered_data.index):\n",
    "        # Labels\n",
    "        total = len(train_raw_df[train_raw_df[\"income\"] == income_value])\n",
    "        percentage = f\"{100 * bar.get_width() / total:.1f}%\"\n",
    "        label_text = f\"{label}\"\n",
    "        percentage_text = f\"{percentage}\"\n",
    "\n",
    "        # Position for labels\n",
    "        label_x_position = bar.get_width() / 2\n",
    "        percentage_x_position = bar.get_width() + (total * 0.001)\n",
    "\n",
    "        # Set the text annotation and percentage for the labels\n",
    "        axes[index].text(\n",
    "            label_x_position,\n",
    "            bar.get_y() + bar.get_height() / 2,\n",
    "            label_text,\n",
    "            ha=\"center\",\n",
    "            va=\"center\",\n",
    "            color=\"white\",\n",
    "        )\n",
    "        axes[index].text(\n",
    "            percentage_x_position,\n",
    "            bar.get_y() + bar.get_height() / 2,\n",
    "            percentage_text,\n",
    "            ha=\"left\",\n",
    "            va=\"center\",\n",
    "            color=palette[0],\n",
    "            fontsize=16,\n",
    "        )\n",
    "\n",
    "plt.tight_layout()\n",
    "plt.savefig(\"figures/industry_split.png\", dpi=300)\n",
    "plt.show()"
   ]
  },
  {
   "cell_type": "markdown",
   "metadata": {},
   "source": [
    "\n",
    "For the lower income, the industry with the highest proportion is Retail Trade while for the highest income It is Manufacturing durable goods. Apart for the first industry, proportion percentages for lower income is evenly distributed. When looking at higher income, we see that percentages are higher, It is become we have a focus on certain industries."
   ]
  },
  {
   "cell_type": "markdown",
   "metadata": {},
   "source": [
    "## 2. Data Cleaning\n"
   ]
  },
  {
   "cell_type": "markdown",
   "metadata": {},
   "source": [
    "### 2.1 Handling Empty values\n"
   ]
  },
  {
   "cell_type": "code",
   "execution_count": 17,
   "metadata": {},
   "outputs": [
    {
     "name": "stdout",
     "output_type": "stream",
     "text": [
      "There are 2076058 empty cells which represents 34.01% of the dataset.\n",
      "\n",
      "Column 'class_of_worker': 50.24% missing values.\n",
      "Column 'enroll_in_edu_inst_last_wk': 93.69% missing values.\n",
      "Column 'major_industry_code': 50.46% missing values.\n",
      "Column 'major_occupation_code': 50.46% missing values.\n",
      "Column 'member_of_a_labor_union': 90.45% missing values.\n",
      "Column 'reason_for_unemployment': 96.96% missing values.\n",
      "Column 'region_of_previous_residence': 92.09% missing values.\n",
      "Column 'state_of_previous_residence': 92.45% missing values.\n",
      "Column 'migration_code-change_in_msa': 50.73% missing values.\n",
      "Column 'migration_code-change_in_reg': 50.73% missing values.\n",
      "Column 'migration_code-move_within_reg': 50.73% missing values.\n",
      "Column 'migration_prev_res_in_sunbelt': 92.09% missing values.\n",
      "Column 'family_members_under_18': 72.29% missing values.\n",
      "Column 'country_of_birth_father': 3.36% missing values.\n",
      "Column 'country_of_birth_mother': 3.07% missing values.\n",
      "Column 'country_of_birth_self': 1.70% missing values.\n",
      "Column 'fill_inc_questionnaire_for_veteran's_admin': 99.01% missing values.\n"
     ]
    }
   ],
   "source": [
    "# Copy raw dataframe\n",
    "train_clean_df = train_raw_df.copy()\n",
    "\n",
    "# Replace \"?\" with NaN\n",
    "train_clean_df = train_clean_df.replace([\" ?\", \" Not in universe or children\", \" Not in universe\"], np.nan)\n",
    "\n",
    "# Check for missing values\n",
    "if train_clean_df.isnull().values.any():\n",
    "\n",
    "    # Print the proportion of missing values\n",
    "    missing_values_count = train_clean_df.isnull().values.sum()\n",
    "    missing_values_percentage = (\n",
    "        missing_values_count / train_clean_df.count().sum() * 100\n",
    "    )\n",
    "    print(\n",
    "        f\"There are {missing_values_count} empty cells which represents {missing_values_percentage:.2f}% of the dataset.\\n\"\n",
    "    )\n",
    "\n",
    "    # Calculate the percentage of missing values for each column\n",
    "    nan_percentage = train_clean_df.isnull().mean() * 100\n",
    "\n",
    "    # Print the columns\n",
    "    for column, percentage in nan_percentage[nan_percentage > 0].items():\n",
    "        print(f\"Column '{column}': {percentage:.2f}% missing values.\")"
   ]
  },
  {
   "cell_type": "code",
   "execution_count": 18,
   "metadata": {},
   "outputs": [
    {
     "name": "stdout",
     "output_type": "stream",
     "text": [
      "Removed 14 columns: ['class_of_worker', 'enroll_in_edu_inst_last_wk', 'major_industry_code', 'major_occupation_code', 'member_of_a_labor_union', 'reason_for_unemployment', 'region_of_previous_residence', 'state_of_previous_residence', 'migration_code-change_in_msa', 'migration_code-change_in_reg', 'migration_code-move_within_reg', 'migration_prev_res_in_sunbelt', 'family_members_under_18', \"fill_inc_questionnaire_for_veteran's_admin\"].\n",
      "\n",
      "Imputation on column: country_of_birth_father.\n",
      "Imputation on column: country_of_birth_mother.\n",
      "Imputation on column: country_of_birth_self.\n"
     ]
    }
   ],
   "source": [
    "# Identify columns where the percentage of NaN values is more than 40% and drop them\n",
    "columns_to_drop = nan_percentage[nan_percentage > 40].index.tolist()\n",
    "columns_to_impute = nan_percentage[(nan_percentage > 0) & (nan_percentage <= 40)].index\n",
    "\n",
    "# Drop columns\n",
    "train_clean_df = train_clean_df.drop(columns=columns_to_drop)\n",
    "continuous_columns = [c for c in continuous_columns if c not in columns_to_drop]\n",
    "categorical_columns = [c for c in categorical_columns if c not in columns_to_drop]\n",
    "print(f\"Removed {len(columns_to_drop)} columns: {columns_to_drop}.\\n\")\n",
    "\n",
    "# Replace the missing values of the other columns by the most frequent value\n",
    "for column in columns_to_impute:\n",
    "    train_clean_df[column] = train_clean_df[column].fillna(\n",
    "        train_clean_df[column].mode()[0]\n",
    "    )\n",
    "    print(f\"Imputation on column: {column}.\")\n",
    "\n",
    "# Check that we don't have any missing data anymore\n",
    "if train_clean_df.isnull().values.any():\n",
    "    raise Exception(\"There are missing values remaining!\")"
   ]
  },
  {
   "cell_type": "markdown",
   "metadata": {},
   "source": [
    "### 2.2 Handling Duplicates\n"
   ]
  },
  {
   "cell_type": "code",
   "execution_count": 19,
   "metadata": {},
   "outputs": [
    {
     "name": "stdout",
     "output_type": "stream",
     "text": [
      "There are 52577 duplicate rows which represents 26.35% of the dataset.\n"
     ]
    }
   ],
   "source": [
    "# Check and remove duplicates\n",
    "if train_clean_df.duplicated().values.any():\n",
    "\n",
    "    # Print the proportion of missing values\n",
    "    duplicate_rows_count = train_clean_df.duplicated().values.sum()\n",
    "    duplicate_rows_percentage = duplicate_rows_count / len(train_clean_df) * 100\n",
    "\n",
    "    print(\n",
    "        f\"There are {duplicate_rows_count} duplicate rows which represents {duplicate_rows_percentage:.2f}% of the dataset.\"\n",
    "    )\n",
    "\n",
    "    # Drop duplicates\n",
    "    train_clean_df = train_clean_df.drop_duplicates()"
   ]
  },
  {
   "cell_type": "markdown",
   "metadata": {},
   "source": [
    "### 2.3 Cleaning the Testing Set\n"
   ]
  },
  {
   "cell_type": "code",
   "execution_count": 20,
   "metadata": {},
   "outputs": [],
   "source": [
    "# Clean test set\n",
    "test_clean_df = test_raw_df.copy()\n",
    "test_clean_df = test_clean_df[continuous_columns + categorical_columns + [\"income\"]]\n",
    "test_clean_df = test_clean_df.replace([\" ?\", \" Not in universe or children\", \" Not in universe\"], np.nan)\n",
    "\n",
    "for c in test_clean_df.columns:\n",
    "    if c in continuous_columns:\n",
    "        test_clean_df[c] = test_clean_df[c].fillna(test_clean_df[c].median())\n",
    "    elif c in categorical_columns:\n",
    "        test_clean_df[c] = test_clean_df[c].fillna(test_clean_df[c].mode()[0])"
   ]
  },
  {
   "cell_type": "markdown",
   "metadata": {},
   "source": [
    "## 3. Feature Engineering\n"
   ]
  },
  {
   "cell_type": "code",
   "execution_count": 21,
   "metadata": {},
   "outputs": [
    {
     "name": "stdout",
     "output_type": "stream",
     "text": [
      "We have 7 continuous columns and 19 categorical columns.\n"
     ]
    }
   ],
   "source": [
    "# Create feature engineering df\n",
    "train_fe_df = train_clean_df.copy()\n",
    "test_fe_df = test_clean_df.copy()\n",
    "\n",
    "# Print the repartition of the types of features\n",
    "print(\n",
    "    f\"We have {len(continuous_columns)} continuous columns and {len(categorical_columns)} categorical columns.\"\n",
    ")"
   ]
  },
  {
   "cell_type": "markdown",
   "metadata": {},
   "source": [
    "### 3.1 Feature Creation\n"
   ]
  },
  {
   "cell_type": "markdown",
   "metadata": {},
   "source": [
    "We decide to perform Binning on several continuous categories: age, wage per hour and weeks worked in year. We also create a new column total wage for year from 2 existing columns."
   ]
  },
  {
   "cell_type": "code",
   "execution_count": 22,
   "metadata": {},
   "outputs": [
    {
     "name": "stdout",
     "output_type": "stream",
     "text": [
      "We now have 8 continuous columns and 22 categorical columns.\n"
     ]
    }
   ],
   "source": [
    "def create_labels(bins):\n",
    "    return (\n",
    "        [f\"<{bins[1]}\"]\n",
    "        + [f\"{int(bins[i])}-{int(bins[i+1])}\" for i in range(1, len(bins) - 2)]\n",
    "        + [f\"{int(bins[-2])}+\"]\n",
    "    )\n",
    "\n",
    "def create_grouped_feature(column_name, bins):\n",
    "    labels = create_labels(bins)\n",
    "    new_column_name = f\"{column_name}_group\"\n",
    "    train_fe_df[new_column_name] = pd.cut(train_fe_df[column_name], bins=bins, labels=labels, right=False)\n",
    "    test_fe_df[new_column_name] = pd.cut(test_fe_df[column_name], bins=bins, labels=labels, right=False)\n",
    "    if new_column_name not in categorical_columns:\n",
    "        categorical_columns.append(new_column_name)\n",
    "\n",
    "# Defining age bins, labels and apply the operation\n",
    "name = \"age\"\n",
    "bins = [-1, 10, 20, 30, 40, 50, 60, 70, 80, np.inf]\n",
    "create_grouped_feature(name, bins)\n",
    "\n",
    "# Same for wage_per_hour\n",
    "name = \"wage_per_hour\"\n",
    "bins = [-1, 10, 25, 50, 100, np.inf]\n",
    "create_grouped_feature(name, bins)\n",
    "\n",
    "# Same for weeks worked in a year\n",
    "name = \"weeks_worked_in_year\"\n",
    "bins = [-1, 10, 20, 30, 40, np.inf]\n",
    "create_grouped_feature(name, bins)\n",
    "\n",
    "# Create a continuous column of the number of weeks worked * wage salary\n",
    "train_fe_df[\"total_wage_for_year\"] = (\n",
    "    train_fe_df[\"weeks_worked_in_year\"] * train_fe_df[\"wage_per_hour\"]\n",
    ")\n",
    "test_fe_df[\"total_wage_for_year\"] = (\n",
    "    test_fe_df[\"weeks_worked_in_year\"] * test_fe_df[\"wage_per_hour\"]\n",
    ")\n",
    "continuous_columns.append(\"total_wage_for_year\")\n",
    "\n",
    "# Print the new number of columns\n",
    "print(\n",
    "    f\"We now have {len(continuous_columns)} continuous columns and {len(categorical_columns)} categorical columns.\"\n",
    ")"
   ]
  },
  {
   "cell_type": "markdown",
   "metadata": {},
   "source": [
    "### 3.2 Target Variables"
   ]
  },
  {
   "cell_type": "code",
   "execution_count": 23,
   "metadata": {},
   "outputs": [],
   "source": [
    "# Create a binary output for target variable\n",
    "y_train = [v == \" 50000+.\" for v in train_clean_df[\"income\"]]\n",
    "y_test = [v == \" 50000+.\" for v in test_clean_df[\"income\"]]"
   ]
  },
  {
   "cell_type": "markdown",
   "metadata": {},
   "source": [
    "### 3.3 Continuous Features\n"
   ]
  },
  {
   "cell_type": "markdown",
   "metadata": {},
   "source": [
    "We perform feature scaling on continuous features, in particular standardisation (more robust to outliers than normalisation). Then we also check if some features are correlated with a correlation matrix (based on Pearson's coefficients). If there are correlated pairs, we drop 1 of the feature. "
   ]
  },
  {
   "cell_type": "code",
   "execution_count": 24,
   "metadata": {},
   "outputs": [],
   "source": [
    "def scale(X_train, X_test):\n",
    "    # Select columns\n",
    "    columns = X_train.columns\n",
    "\n",
    "    # Initialize the StandardScaler\n",
    "    scaler = StandardScaler()\n",
    "\n",
    "    # Standardize continuous features\n",
    "    scaled_train_data = scaler.fit_transform(X_train)\n",
    "    scaled_test_data = scaler.transform(X_test)\n",
    "\n",
    "    # Convert the arrays to a DataFrames with appropriate column names\n",
    "    X_train = pd.DataFrame(scaled_train_data, columns=columns)\n",
    "    X_test = pd.DataFrame(scaled_test_data, columns=columns)\n",
    "\n",
    "    return X_train, X_test\n",
    "\n",
    "def correlation_filter(X_train, X_test):\n",
    "    # Calculate the correlation matrix for continuous features\n",
    "    corr_matrix = X_train.corr()\n",
    "    high_corr = corr_matrix.abs().unstack().sort_values(kind=\"quicksort\", ascending=False)\n",
    "    high_corr = high_corr[high_corr < 1].iloc[::2]\n",
    "\n",
    "    # Identifying pairs with high correlation (greater than 0.9) and define columns to drop\n",
    "    pairs = high_corr[high_corr > 0.9]\n",
    "    print(f\"We have {len(pairs)} pairs of correlated continuous features: {list(pairs.index)}.\")\n",
    "\n",
    "    # Columns to drop\n",
    "    columns_to_drop = [pair[1] for pair in pairs.index]\n",
    "    top_features = [feature for feature in X_train.columns if feature not in columns_to_drop]\n",
    "    print(f\"Updated list of continuous features has {len(top_features)} features.\")\n",
    "\n",
    "    # Drop columns\n",
    "    X_train = X_train[top_features]\n",
    "    X_test = X_test[top_features]\n",
    "\n",
    "    return X_train, X_test, top_features"
   ]
  },
  {
   "cell_type": "code",
   "execution_count": 25,
   "metadata": {},
   "outputs": [
    {
     "name": "stdout",
     "output_type": "stream",
     "text": [
      "We have 1 pairs of correlated continuous features: [('total_wage_for_year', 'wage_per_hour')].\n",
      "Updated list of continuous features has 7 features.\n"
     ]
    }
   ],
   "source": [
    "# Continuous dataframes\n",
    "X_train_continuous, X_test_continuous = scale(\n",
    "    train_fe_df[continuous_columns], test_fe_df[continuous_columns]\n",
    ")\n",
    "X_train_continuous_top, X_test_continuous_top, continuous_columns_top = correlation_filter(\n",
    "    X_train_continuous, X_test_continuous\n",
    ")"
   ]
  },
  {
   "cell_type": "markdown",
   "metadata": {},
   "source": [
    "### 3.4 Categorical Features\n"
   ]
  },
  {
   "cell_type": "markdown",
   "metadata": {},
   "source": [
    "For categorical features, we perform one hot encoding in order to convert each categorical value into a new categorical column and assign a binary value of 1 or 0 to those columns. Hence It creates many columns. We than perform Chi-square tests to check if features have an influence on the target variable (significant p value < 0.05). Finally we will only keep the top columns (that have the higher Chi2 values and significant p value) which are the columns supposed to have the more influence on the outcome. "
   ]
  },
  {
   "cell_type": "code",
   "execution_count": 26,
   "metadata": {},
   "outputs": [],
   "source": [
    "def one_hot_encode(X_train, X_test):\n",
    "    # Instantiate the OneHotEncoder\n",
    "    encoder = OneHotEncoder(sparse_output=False)\n",
    "\n",
    "    # Transform both train and test sets\n",
    "    encoded_train_data = encoder.fit_transform(X_train)\n",
    "    encoded_test_data = encoder.transform(X_test)\n",
    "\n",
    "    # Convert the arrays to a DataFrames with appropriate column names\n",
    "    X_train = pd.DataFrame(encoded_train_data, columns=encoder.get_feature_names_out())\n",
    "    X_test = pd.DataFrame(encoded_test_data, columns=encoder.get_feature_names_out())\n",
    "\n",
    "    return X_train, X_test\n",
    "\n",
    "\n",
    "def chi2_filter(X_train, X_test, n=100):\n",
    "    # Assuming X and y are already defined and appropriate for chi2\n",
    "    chi_scores, p_values = chi2(X_train, y_train)\n",
    "\n",
    "    # Creating a DataFrame with chi-scores, p-values, and feature names\n",
    "    chi_values_df = pd.DataFrame(\n",
    "        {\"Chi2\": chi_scores, \"p_value\": p_values}, index=X_train.columns\n",
    "    )\n",
    "\n",
    "    # Filtering features with significant p-values (p-value < 0.05)\n",
    "    significant_features = chi_values_df[chi_values_df[\"p_value\"] < 0.05]\n",
    "\n",
    "    # Sorting the significant features by their Chi-square scores in descending order and selecting\n",
    "    top_features = (\n",
    "        significant_features.sort_values(by=\"Chi2\", ascending=False)\n",
    "        .head(n)\n",
    "        .index.tolist()\n",
    "    )\n",
    "\n",
    "    # Select top features in dataframe\n",
    "    X_train = X_train[top_features]\n",
    "    X_test = X_test[top_features]\n",
    "\n",
    "    return X_train, X_test, top_features, significant_features"
   ]
  },
  {
   "cell_type": "code",
   "execution_count": 27,
   "metadata": {},
   "outputs": [],
   "source": [
    "# Categorical dataframes\n",
    "X_train_categorical, X_test_categorical = one_hot_encode(\n",
    "    train_fe_df[categorical_columns], test_fe_df[categorical_columns]\n",
    ")\n",
    "\n",
    "# Top categorical dataframes\n",
    "X_train_categorical_top, X_test_categorical_top, categorical_columns_top, significant_chi = chi2_filter(\n",
    "    X_train_categorical, X_test_categorical\n",
    ")\n",
    "\n",
    "# Reset indexes to match\n",
    "X_train_categorical = X_train_categorical.set_index(X_train_continuous.index)\n",
    "X_test_categorical = X_test_categorical.set_index(X_test_continuous.index)\n",
    "X_train_categorical_top = X_train_categorical_top.set_index(X_train_continuous.index)\n",
    "X_test_categorical_top = X_test_categorical_top.set_index(X_test_continuous.index)"
   ]
  },
  {
   "cell_type": "markdown",
   "metadata": {},
   "source": [
    "Here we plot the top-10 of categorical features having an impact on the target variable according to chi2 tests:"
   ]
  },
  {
   "cell_type": "code",
   "execution_count": 28,
   "metadata": {},
   "outputs": [
    {
     "data": {
      "image/png": "[encoded data removed]",
      "text/plain": [
       "<Figure size 640x480 with 1 Axes>"
      ]
     },
     "metadata": {},
     "output_type": "display_data"
    }
   ],
   "source": [
    "# Key features of importance for predictions \n",
    "chi_data = significant_chi.sort_values(by=[\"Chi2\"], ascending=False)[:10]\n",
    "\n",
    "sns.barplot(chi_data[\"Chi2\"], orient=\"y\", color=palette[0])\n",
    "plt.savefig(\"figures/chi_importance.png\", dpi=300, bbox_inches='tight')"
   ]
  },
  {
   "cell_type": "markdown",
   "metadata": {},
   "source": [
    "### 3.5 Combine All Features\n"
   ]
  },
  {
   "cell_type": "markdown",
   "metadata": {},
   "source": [
    "Now we need to combine continuous and categorical columns. We create 2 dataframes after standardisation and one hot encoding:\n",
    "* a dataframe with all the columns \n",
    "* a dataframe with redundant continuous columns removed and only the top-100 of categorical features"
   ]
  },
  {
   "cell_type": "code",
   "execution_count": 29,
   "metadata": {},
   "outputs": [],
   "source": [
    "# Full dataframes\n",
    "X_train_all = pd.concat([X_train_continuous, X_train_categorical], axis=1)\n",
    "X_test_all = pd.concat([X_test_continuous, X_test_categorical], axis=1)\n",
    "\n",
    "# Top dataframes\n",
    "X_train_top = pd.concat([X_train_continuous_top, X_train_categorical_top], axis=1)\n",
    "X_test_top = pd.concat([X_test_continuous_top, X_test_categorical_top], axis=1)"
   ]
  },
  {
   "cell_type": "markdown",
   "metadata": {},
   "source": [
    "### 3.6 Create a balanced dataset"
   ]
  },
  {
   "cell_type": "markdown",
   "metadata": {},
   "source": [
    "Given the significant imbalance in our dataset, we have prepared two additional datasets through oversampling and downsampling techniques. This approach aims to evaluate whether future models can achieve better performance on these balanced datasets compared to the original unbalanced one."
   ]
  },
  {
   "cell_type": "code",
   "execution_count": 30,
   "metadata": {},
   "outputs": [],
   "source": [
    "y_train_df = pd.Series(y_train)\n",
    "\n",
    "# Combine X and y into a single DataFrame for easier manipulation\n",
    "data = pd.concat([X_train_all, y_train_df.rename(\"income\")], axis=1)\n",
    "\n",
    "# Separate majority and minority classes\n",
    "majority = data[data[\"income\"] == False]\n",
    "minority = data[data[\"income\"] == True]"
   ]
  },
  {
   "cell_type": "markdown",
   "metadata": {},
   "source": [
    "#### Downsampling"
   ]
  },
  {
   "cell_type": "markdown",
   "metadata": {},
   "source": [
    "In downsampling, we randomly reduce the majority class to match the size of the minority class, creating a balanced dataset. This method helps in minimizing the bias towards the majority class, facilitating the development of more generalized models."
   ]
  },
  {
   "cell_type": "code",
   "execution_count": 31,
   "metadata": {},
   "outputs": [
    {
     "name": "stdout",
     "output_type": "stream",
     "text": [
      "Original dataset size: 146946\n",
      "Balanced dataset size: 24714\n",
      "\n",
      "Number of True instances: 12357\n",
      "Number of False instances: 12357\n"
     ]
    }
   ],
   "source": [
    "# Downsample majority class\n",
    "majority_downsampled = majority.sample(len(minority), random_state=42)\n",
    "\n",
    "# Create balanced dataset\n",
    "downsampled_data = pd.concat([majority_downsampled, minority])\n",
    "downsampled_data = downsampled_data.sample(frac=1, random_state=42)\n",
    "\n",
    "# Split the balanced dataset back into X and y\n",
    "X_train_downsampled = downsampled_data.drop(\"income\", axis=1)\n",
    "y_train_downsampled = downsampled_data[\"income\"]\n",
    "\n",
    "print(f\"Original dataset size: {len(data)}\")\n",
    "print(f\"Balanced dataset size: {len(downsampled_data)}\\n\")\n",
    "print(f\"Number of True instances: {sum(y_train_downsampled == True)}\")\n",
    "print(f\"Number of False instances: {sum(y_train_downsampled == False)}\")"
   ]
  },
  {
   "cell_type": "markdown",
   "metadata": {},
   "source": [
    "#### Oversampling"
   ]
  },
  {
   "cell_type": "markdown",
   "metadata": {},
   "source": [
    "In oversampling, we replicate instances from the minority class to equal the majority class's size, thus creating a balanced dataset. This approach enhances the model's ability to learn from the underrepresented class, aiming for a more equitable performance across classes."
   ]
  },
  {
   "cell_type": "code",
   "execution_count": 32,
   "metadata": {},
   "outputs": [
    {
     "name": "stdout",
     "output_type": "stream",
     "text": [
      "Original dataset size: 146946\n",
      "Balanced dataset size: 269178\n",
      "\n",
      "Number of True instances: 134589\n",
      "Number of False instances: 134589\n"
     ]
    }
   ],
   "source": [
    "# Oversample minority class\n",
    "minority_oversampled = minority.sample(len(majority), replace=True, random_state=42)\n",
    "\n",
    "# Create balanced dataset\n",
    "oversampled_data = pd.concat([majority, minority_oversampled])\n",
    "oversampled_data = oversampled_data.sample(frac=1, random_state=42)\n",
    "\n",
    "# Split the balanced dataset back into X and y\n",
    "X_train_oversampled = oversampled_data.drop(\"income\", axis=1)\n",
    "y_train_oversampled = oversampled_data[\"income\"]\n",
    "\n",
    "print(f\"Original dataset size: {len(data)}\")\n",
    "print(f\"Balanced dataset size: {len(oversampled_data)}\\n\")\n",
    "print(f\"Number of True instances: {sum(y_train_oversampled == True)}\")\n",
    "print(f\"Number of False instances: {sum(y_train_oversampled == False)}\")"
   ]
  },
  {
   "cell_type": "markdown",
   "metadata": {},
   "source": [
    "### 3.7 PCA\n"
   ]
  },
  {
   "cell_type": "markdown",
   "metadata": {},
   "source": [
    "We apply Principal Component Analysis (PCA) to reduce the dimensionality of our dataset while retaining 90% of the variance, aiming to improve model efficiency and prevent overfitting."
   ]
  },
  {
   "cell_type": "code",
   "execution_count": 33,
   "metadata": {},
   "outputs": [],
   "source": [
    "# Apply PCA\n",
    "pca = PCA(n_components=0.90)  # Retain 90% of the variance\n",
    "X_train_pca = pca.fit_transform(X_train_all)\n",
    "X_test_pca = pca.transform(X_test_all)"
   ]
  },
  {
   "cell_type": "markdown",
   "metadata": {},
   "source": [
    "## 4. Data Modeling\n"
   ]
  },
  {
   "cell_type": "code",
   "execution_count": 34,
   "metadata": {},
   "outputs": [],
   "source": [
    "def predict_with_scores(X, y, model):\n",
    "    # Predict outcome\n",
    "    y_pred = model.predict(X)\n",
    "\n",
    "    # Calculate scores\n",
    "    accuracy = accuracy_score(y, y_pred)\n",
    "    precision = precision_score(y, y_pred)\n",
    "    recall = recall_score(y, y_pred)\n",
    "    f1 = f1_score(y, y_pred)\n",
    "    report = classification_report(y, y_pred)\n",
    "\n",
    "    # Print scores\n",
    "    print(f\"Accuracy: {accuracy:.4f}\")\n",
    "    print(f\"Precision: {precision:.4f}\")\n",
    "    print(f\"Recall: {recall:.4f}\")\n",
    "    print(f\"F1: {f1:.4f}\\n\")\n",
    "    print(report)"
   ]
  },
  {
   "cell_type": "markdown",
   "metadata": {},
   "source": [
    "To rigorously assess the performance of our models, we have created several datasets, each processed differently through downsampling, oversampling, PCA, and feature selection techniques. These datasets are split into training and validation sets first, and then for a better way we create the appropriate training and testing sets."
   ]
  },
  {
   "cell_type": "code",
   "execution_count": 35,
   "metadata": {},
   "outputs": [],
   "source": [
    "# Create a validation dataset \n",
    "X_train_eval_all, X_eval_all, y_train_eval_all, y_eval_all = train_test_split(X_train_all, y_train, test_size=0.2, random_state=42)\n",
    "X_train_eval_down, X_eval_down, y_train_eval_down, y_eval_down = train_test_split(X_train_downsampled, y_train_downsampled, test_size=0.2, random_state=42)\n",
    "X_train_eval_over, X_eval_over, y_train_eval_over, y_eval_over = train_test_split(X_train_oversampled, y_train_oversampled, test_size=0.2, random_state=42)\n",
    "X_train_eval_pca, X_eval_pca, y_train_eval_pca, y_eval_pca = train_test_split(X_train_pca, y_train, test_size=0.2, random_state=42)\n",
    "X_train_eval_top, X_eval_top, y_train_eval_top, y_eval_top = train_test_split(X_train_top, y_train, test_size=0.2, random_state=42)\n",
    "\n",
    "# Define different training and testing sets in eval mode\n",
    "datasets_eval = {\n",
    "    \"Original\": (X_train_eval_all, X_eval_all, y_train_eval_all, y_eval_all),\n",
    "    \"Downsampled\": (X_train_eval_down, X_eval_down, y_train_eval_down, y_eval_down),\n",
    "    \"Oversampled\": (X_train_eval_over, X_eval_over, y_train_eval_over, y_eval_over),\n",
    "    \"PCA\": (X_train_eval_pca, X_eval_pca, y_train_eval_pca, y_eval_pca),\n",
    "    \"Top\": (X_train_eval_top, X_eval_top, y_train_eval_top, y_eval_top)\n",
    "}\n",
    "\n",
    "# Define different training and testing sets in testing mode \n",
    "datasets = {\n",
    "    \"Original\": (X_train_all, X_test_all, y_train, y_test),\n",
    "    \"Downsampled\": (X_train_downsampled, X_test_all, y_train_downsampled, y_test),\n",
    "    \"Oversampled\": (X_train_oversampled, X_test_all, y_train_oversampled, y_test),\n",
    "    \"PCA\": (X_train_pca, X_test_pca, y_train, y_test),\n",
    "    \"Top\": (X_train_top, X_test_top, y_train, y_test)\n",
    "}"
   ]
  },
  {
   "cell_type": "markdown",
   "metadata": {},
   "source": [
    "### 4.1 Random Forest"
   ]
  },
  {
   "cell_type": "markdown",
   "metadata": {},
   "source": [
    "We first train a random forest classifiers on all the datasets to see which one performs better.  Following this, it isolates the best-performing features, highlighting their importance in optimizing the model's predictive accuracy."
   ]
  },
  {
   "cell_type": "code",
   "execution_count": 36,
   "metadata": {},
   "outputs": [
    {
     "name": "stdout",
     "output_type": "stream",
     "text": [
      "EVAL MODE\n",
      "Training Random Forest and testing on Original dataset\n"
     ]
    },
    {
     "name": "stdout",
     "output_type": "stream",
     "text": [
      "Accuracy: 0.9385\n",
      "Precision: 0.7334\n",
      "Recall: 0.3970\n",
      "F1: 0.5152\n",
      "\n",
      "              precision    recall  f1-score   support\n",
      "\n",
      "       False       0.95      0.99      0.97     26972\n",
      "        True       0.73      0.40      0.52      2418\n",
      "\n",
      "    accuracy                           0.94     29390\n",
      "   macro avg       0.84      0.69      0.74     29390\n",
      "weighted avg       0.93      0.94      0.93     29390\n",
      "\n",
      "\n",
      "==================================================\n",
      "\n",
      "Training Random Forest and testing on Downsampled dataset\n",
      "Accuracy: 0.8418\n",
      "Precision: 0.8325\n",
      "Recall: 0.8573\n",
      "F1: 0.8447\n",
      "\n",
      "              precision    recall  f1-score   support\n",
      "\n",
      "       False       0.85      0.83      0.84      2462\n",
      "        True       0.83      0.86      0.84      2481\n",
      "\n",
      "    accuracy                           0.84      4943\n",
      "   macro avg       0.84      0.84      0.84      4943\n",
      "weighted avg       0.84      0.84      0.84      4943\n",
      "\n",
      "\n",
      "==================================================\n",
      "\n",
      "Training Random Forest and testing on Oversampled dataset\n",
      "Accuracy: 0.9824\n",
      "Precision: 0.9658\n",
      "Recall: 0.9999\n",
      "F1: 0.9826\n",
      "\n",
      "              precision    recall  f1-score   support\n",
      "\n",
      "       False       1.00      0.97      0.98     27061\n",
      "        True       0.97      1.00      0.98     26775\n",
      "\n",
      "    accuracy                           0.98     53836\n",
      "   macro avg       0.98      0.98      0.98     53836\n",
      "weighted avg       0.98      0.98      0.98     53836\n",
      "\n",
      "\n",
      "==================================================\n",
      "\n",
      "Training Random Forest and testing on PCA dataset\n",
      "Accuracy: 0.9366\n",
      "Precision: 0.7372\n",
      "Recall: 0.3573\n",
      "F1: 0.4813\n",
      "\n",
      "              precision    recall  f1-score   support\n",
      "\n",
      "       False       0.94      0.99      0.97     26972\n",
      "        True       0.74      0.36      0.48      2418\n",
      "\n",
      "    accuracy                           0.94     29390\n",
      "   macro avg       0.84      0.67      0.72     29390\n",
      "weighted avg       0.93      0.94      0.93     29390\n",
      "\n",
      "\n",
      "==================================================\n",
      "\n",
      "Training Random Forest and testing on Top dataset\n",
      "Accuracy: 0.9379\n",
      "Precision: 0.6963\n",
      "Recall: 0.4342\n",
      "F1: 0.5349\n",
      "\n",
      "              precision    recall  f1-score   support\n",
      "\n",
      "       False       0.95      0.98      0.97     26972\n",
      "        True       0.70      0.43      0.53      2418\n",
      "\n",
      "    accuracy                           0.94     29390\n",
      "   macro avg       0.82      0.71      0.75     29390\n",
      "weighted avg       0.93      0.94      0.93     29390\n",
      "\n",
      "\n",
      "==================================================\n",
      "\n",
      "TEST MODE\n",
      "Training Random Forest and testing on Original dataset\n",
      "Accuracy: 0.9533\n",
      "Precision: 0.7186\n",
      "Recall: 0.4062\n",
      "F1: 0.5191\n",
      "\n",
      "              precision    recall  f1-score   support\n",
      "\n",
      "       False       0.96      0.99      0.98     93576\n",
      "        True       0.72      0.41      0.52      6186\n",
      "\n",
      "    accuracy                           0.95     99762\n",
      "   macro avg       0.84      0.70      0.75     99762\n",
      "weighted avg       0.95      0.95      0.95     99762\n",
      "\n",
      "\n",
      "==================================================\n",
      "\n",
      "Training Random Forest and testing on Downsampled dataset\n",
      "Accuracy: 0.8702\n",
      "Precision: 0.3065\n",
      "Recall: 0.8657\n",
      "F1: 0.4527\n",
      "\n",
      "              precision    recall  f1-score   support\n",
      "\n",
      "       False       0.99      0.87      0.93     93576\n",
      "        True       0.31      0.87      0.45      6186\n",
      "\n",
      "    accuracy                           0.87     99762\n",
      "   macro avg       0.65      0.87      0.69     99762\n",
      "weighted avg       0.95      0.87      0.90     99762\n",
      "\n",
      "\n",
      "==================================================\n",
      "\n",
      "Training Random Forest and testing on Oversampled dataset\n",
      "Accuracy: 0.9504\n",
      "Precision: 0.6201\n",
      "Recall: 0.5158\n",
      "F1: 0.5632\n",
      "\n",
      "              precision    recall  f1-score   support\n",
      "\n",
      "       False       0.97      0.98      0.97     93576\n",
      "        True       0.62      0.52      0.56      6186\n",
      "\n",
      "    accuracy                           0.95     99762\n",
      "   macro avg       0.79      0.75      0.77     99762\n",
      "weighted avg       0.95      0.95      0.95     99762\n",
      "\n",
      "\n",
      "==================================================\n",
      "\n",
      "Training Random Forest and testing on PCA dataset\n",
      "Accuracy: 0.9516\n",
      "Precision: 0.7267\n",
      "Recall: 0.3529\n",
      "F1: 0.4751\n",
      "\n",
      "              precision    recall  f1-score   support\n",
      "\n",
      "       False       0.96      0.99      0.97     93576\n",
      "        True       0.73      0.35      0.48      6186\n",
      "\n",
      "    accuracy                           0.95     99762\n",
      "   macro avg       0.84      0.67      0.72     99762\n",
      "weighted avg       0.94      0.95      0.94     99762\n",
      "\n",
      "\n",
      "==================================================\n",
      "\n",
      "Training Random Forest and testing on Top dataset\n",
      "Accuracy: 0.9531\n",
      "Precision: 0.6914\n",
      "Recall: 0.4405\n",
      "F1: 0.5382\n",
      "\n",
      "              precision    recall  f1-score   support\n",
      "\n",
      "       False       0.96      0.99      0.98     93576\n",
      "        True       0.69      0.44      0.54      6186\n",
      "\n",
      "    accuracy                           0.95     99762\n",
      "   macro avg       0.83      0.71      0.76     99762\n",
      "weighted avg       0.95      0.95      0.95     99762\n",
      "\n",
      "\n",
      "==================================================\n",
      "\n"
     ]
    }
   ],
   "source": [
    "# Loop through the datasets, train and test the model on each\n",
    "for i, d in enumerate([datasets_eval, datasets]):\n",
    "    mode = \"EVAL MODE\" if i == 0 else \"TEST MODE\"\n",
    "    print(mode)\n",
    "    for name, (X_train, X_test, y_train, y_test) in d.items():\n",
    "        print(f\"Training Random Forest and testing on {name} dataset\")\n",
    "        \n",
    "        # Model initialization and fitting\n",
    "        rf_model = RandomForestClassifier(n_estimators=100, random_state=42)\n",
    "        rf_model.fit(X_train, y_train)\n",
    "        \n",
    "        # Prediction and evaluation\n",
    "        predict_with_scores(X_test, y_test, rf_model)\n",
    "        print(\"\\n\" + \"=\"*50 + \"\\n\")"
   ]
  },
  {
   "cell_type": "markdown",
   "metadata": {},
   "source": [
    "Random Forest has the best results (in testing mode) when trained on the oversampled dataset."
   ]
  },
  {
   "cell_type": "code",
   "execution_count": 37,
   "metadata": {},
   "outputs": [
    {
     "data": {
      "image/png": "[encoded data removed]",
      "text/plain": [
       "<Figure size 640x480 with 1 Axes>"
      ]
     },
     "metadata": {},
     "output_type": "display_data"
    }
   ],
   "source": [
    "# Feature importance\n",
    "rf_model = RandomForestClassifier(n_estimators=100, random_state=42)\n",
    "rf_model.fit(X_train_all, y_train)\n",
    "\n",
    "# Get feature importance\n",
    "importances = rf_model.feature_importances_\n",
    "forest_importances = pd.Series(importances, index=X_train_all.columns).sort_values(ascending=False).head(10)\n",
    "\n",
    "# Plot\n",
    "sns.barplot(forest_importances, orient=\"y\", color=palette[0])\n",
    "plt.savefig(\"figures/feature_importance.png\", dpi=300, bbox_inches='tight')\n",
    "plt.show()\n"
   ]
  },
  {
   "cell_type": "markdown",
   "metadata": {},
   "source": [
    "### 4.2 Logistic Regression"
   ]
  },
  {
   "cell_type": "markdown",
   "metadata": {},
   "source": [
    "We train a logistic regression model which is a linear approach for modeling the probability of a binary outcome, using a logistic function. "
   ]
  },
  {
   "cell_type": "code",
   "execution_count": 38,
   "metadata": {},
   "outputs": [
    {
     "name": "stdout",
     "output_type": "stream",
     "text": [
      "EVAL MODE\n",
      "Training Logistic Regression and testing on Original dataset\n"
     ]
    },
    {
     "name": "stderr",
     "output_type": "stream",
     "text": [
      "/Users/constancegontier/Desktop/Dataiku_technique 2/.venv/lib/python3.12/site-packages/sklearn/linear_model/_logistic.py:469: ConvergenceWarning: lbfgs failed to converge (status=1):\n",
      "STOP: TOTAL NO. of ITERATIONS REACHED LIMIT.\n",
      "\n",
      "Increase the number of iterations (max_iter) or scale the data as shown in:\n",
      "    https://scikit-learn.org/stable/modules/preprocessing.html\n",
      "Please also refer to the documentation for alternative solver options:\n",
      "    https://scikit-learn.org/stable/modules/linear_model.html#logistic-regression\n",
      "  n_iter_i = _check_optimize_result(\n"
     ]
    },
    {
     "name": "stdout",
     "output_type": "stream",
     "text": [
      "Accuracy: 0.9395\n",
      "Precision: 0.7402\n",
      "Recall: 0.4078\n",
      "F1: 0.5259\n",
      "\n",
      "              precision    recall  f1-score   support\n",
      "\n",
      "       False       0.95      0.99      0.97     26972\n",
      "        True       0.74      0.41      0.53      2418\n",
      "\n",
      "    accuracy                           0.94     29390\n",
      "   macro avg       0.84      0.70      0.75     29390\n",
      "weighted avg       0.93      0.94      0.93     29390\n",
      "\n",
      "\n",
      "==================================================\n",
      "\n",
      "Training Logistic Regression and testing on Downsampled dataset\n"
     ]
    },
    {
     "name": "stderr",
     "output_type": "stream",
     "text": [
      "/Users/constancegontier/Desktop/Dataiku_technique 2/.venv/lib/python3.12/site-packages/sklearn/linear_model/_logistic.py:469: ConvergenceWarning: lbfgs failed to converge (status=1):\n",
      "STOP: TOTAL NO. of ITERATIONS REACHED LIMIT.\n",
      "\n",
      "Increase the number of iterations (max_iter) or scale the data as shown in:\n",
      "    https://scikit-learn.org/stable/modules/preprocessing.html\n",
      "Please also refer to the documentation for alternative solver options:\n",
      "    https://scikit-learn.org/stable/modules/linear_model.html#logistic-regression\n",
      "  n_iter_i = _check_optimize_result(\n"
     ]
    },
    {
     "name": "stdout",
     "output_type": "stream",
     "text": [
      "Accuracy: 0.8444\n",
      "Precision: 0.8326\n",
      "Recall: 0.8638\n",
      "F1: 0.8479\n",
      "\n",
      "              precision    recall  f1-score   support\n",
      "\n",
      "       False       0.86      0.82      0.84      2462\n",
      "        True       0.83      0.86      0.85      2481\n",
      "\n",
      "    accuracy                           0.84      4943\n",
      "   macro avg       0.84      0.84      0.84      4943\n",
      "weighted avg       0.84      0.84      0.84      4943\n",
      "\n",
      "\n",
      "==================================================\n",
      "\n",
      "Training Logistic Regression and testing on Oversampled dataset\n"
     ]
    },
    {
     "name": "stderr",
     "output_type": "stream",
     "text": [
      "/Users/constancegontier/Desktop/Dataiku_technique 2/.venv/lib/python3.12/site-packages/sklearn/linear_model/_logistic.py:469: ConvergenceWarning: lbfgs failed to converge (status=1):\n",
      "STOP: TOTAL NO. of ITERATIONS REACHED LIMIT.\n",
      "\n",
      "Increase the number of iterations (max_iter) or scale the data as shown in:\n",
      "    https://scikit-learn.org/stable/modules/preprocessing.html\n",
      "Please also refer to the documentation for alternative solver options:\n",
      "    https://scikit-learn.org/stable/modules/linear_model.html#logistic-regression\n",
      "  n_iter_i = _check_optimize_result(\n"
     ]
    },
    {
     "name": "stdout",
     "output_type": "stream",
     "text": [
      "Accuracy: 0.8499\n",
      "Precision: 0.8388\n",
      "Recall: 0.8644\n",
      "F1: 0.8514\n",
      "\n",
      "              precision    recall  f1-score   support\n",
      "\n",
      "       False       0.86      0.84      0.85     27061\n",
      "        True       0.84      0.86      0.85     26775\n",
      "\n",
      "    accuracy                           0.85     53836\n",
      "   macro avg       0.85      0.85      0.85     53836\n",
      "weighted avg       0.85      0.85      0.85     53836\n",
      "\n",
      "\n",
      "==================================================\n",
      "\n",
      "Training Logistic Regression and testing on PCA dataset\n",
      "Accuracy: 0.9341\n",
      "Precision: 0.7297\n",
      "Recall: 0.3160\n",
      "F1: 0.4410\n",
      "\n",
      "              precision    recall  f1-score   support\n",
      "\n",
      "       False       0.94      0.99      0.96     26972\n",
      "        True       0.73      0.32      0.44      2418\n",
      "\n",
      "    accuracy                           0.93     29390\n",
      "   macro avg       0.84      0.65      0.70     29390\n",
      "weighted avg       0.92      0.93      0.92     29390\n",
      "\n",
      "\n",
      "==================================================\n",
      "\n",
      "Training Logistic Regression and testing on Top dataset\n",
      "Accuracy: 0.9395\n",
      "Precision: 0.7419\n",
      "Recall: 0.4053\n",
      "F1: 0.5242\n",
      "\n",
      "              precision    recall  f1-score   support\n",
      "\n",
      "       False       0.95      0.99      0.97     26972\n",
      "        True       0.74      0.41      0.52      2418\n",
      "\n",
      "    accuracy                           0.94     29390\n",
      "   macro avg       0.85      0.70      0.75     29390\n",
      "weighted avg       0.93      0.94      0.93     29390\n",
      "\n",
      "\n",
      "==================================================\n",
      "\n",
      "TEST MODE\n",
      "Training Logistic Regression and testing on Original dataset\n"
     ]
    },
    {
     "name": "stderr",
     "output_type": "stream",
     "text": [
      "/Users/constancegontier/Desktop/Dataiku_technique 2/.venv/lib/python3.12/site-packages/sklearn/linear_model/_logistic.py:469: ConvergenceWarning: lbfgs failed to converge (status=1):\n",
      "STOP: TOTAL NO. of ITERATIONS REACHED LIMIT.\n",
      "\n",
      "Increase the number of iterations (max_iter) or scale the data as shown in:\n",
      "    https://scikit-learn.org/stable/modules/preprocessing.html\n",
      "Please also refer to the documentation for alternative solver options:\n",
      "    https://scikit-learn.org/stable/modules/linear_model.html#logistic-regression\n",
      "  n_iter_i = _check_optimize_result(\n"
     ]
    },
    {
     "name": "stdout",
     "output_type": "stream",
     "text": [
      "Accuracy: 0.9535\n",
      "Precision: 0.7294\n",
      "Recall: 0.3978\n",
      "F1: 0.5149\n",
      "\n",
      "              precision    recall  f1-score   support\n",
      "\n",
      "       False       0.96      0.99      0.98     93576\n",
      "        True       0.73      0.40      0.51      6186\n",
      "\n",
      "    accuracy                           0.95     99762\n",
      "   macro avg       0.85      0.69      0.75     99762\n",
      "weighted avg       0.95      0.95      0.95     99762\n",
      "\n",
      "\n",
      "==================================================\n",
      "\n",
      "Training Logistic Regression and testing on Downsampled dataset\n"
     ]
    },
    {
     "name": "stderr",
     "output_type": "stream",
     "text": [
      "/Users/constancegontier/Desktop/Dataiku_technique 2/.venv/lib/python3.12/site-packages/sklearn/linear_model/_logistic.py:469: ConvergenceWarning: lbfgs failed to converge (status=1):\n",
      "STOP: TOTAL NO. of ITERATIONS REACHED LIMIT.\n",
      "\n",
      "Increase the number of iterations (max_iter) or scale the data as shown in:\n",
      "    https://scikit-learn.org/stable/modules/preprocessing.html\n",
      "Please also refer to the documentation for alternative solver options:\n",
      "    https://scikit-learn.org/stable/modules/linear_model.html#logistic-regression\n",
      "  n_iter_i = _check_optimize_result(\n"
     ]
    },
    {
     "name": "stdout",
     "output_type": "stream",
     "text": [
      "Accuracy: 0.8766\n",
      "Precision: 0.3182\n",
      "Recall: 0.8661\n",
      "F1: 0.4654\n",
      "\n",
      "              precision    recall  f1-score   support\n",
      "\n",
      "       False       0.99      0.88      0.93     93576\n",
      "        True       0.32      0.87      0.47      6186\n",
      "\n",
      "    accuracy                           0.88     99762\n",
      "   macro avg       0.65      0.87      0.70     99762\n",
      "weighted avg       0.95      0.88      0.90     99762\n",
      "\n",
      "\n",
      "==================================================\n",
      "\n",
      "Training Logistic Regression and testing on Oversampled dataset\n"
     ]
    },
    {
     "name": "stderr",
     "output_type": "stream",
     "text": [
      "/Users/constancegontier/Desktop/Dataiku_technique 2/.venv/lib/python3.12/site-packages/sklearn/linear_model/_logistic.py:469: ConvergenceWarning: lbfgs failed to converge (status=1):\n",
      "STOP: TOTAL NO. of ITERATIONS REACHED LIMIT.\n",
      "\n",
      "Increase the number of iterations (max_iter) or scale the data as shown in:\n",
      "    https://scikit-learn.org/stable/modules/preprocessing.html\n",
      "Please also refer to the documentation for alternative solver options:\n",
      "    https://scikit-learn.org/stable/modules/linear_model.html#logistic-regression\n",
      "  n_iter_i = _check_optimize_result(\n"
     ]
    },
    {
     "name": "stdout",
     "output_type": "stream",
     "text": [
      "Accuracy: 0.8793\n",
      "Precision: 0.3232\n",
      "Recall: 0.8655\n",
      "F1: 0.4706\n",
      "\n",
      "              precision    recall  f1-score   support\n",
      "\n",
      "       False       0.99      0.88      0.93     93576\n",
      "        True       0.32      0.87      0.47      6186\n",
      "\n",
      "    accuracy                           0.88     99762\n",
      "   macro avg       0.66      0.87      0.70     99762\n",
      "weighted avg       0.95      0.88      0.90     99762\n",
      "\n",
      "\n",
      "==================================================\n",
      "\n",
      "Training Logistic Regression and testing on PCA dataset\n",
      "Accuracy: 0.9496\n",
      "Precision: 0.7120\n",
      "Recall: 0.3133\n",
      "F1: 0.4351\n",
      "\n",
      "              precision    recall  f1-score   support\n",
      "\n",
      "       False       0.96      0.99      0.97     93576\n",
      "        True       0.71      0.31      0.44      6186\n",
      "\n",
      "    accuracy                           0.95     99762\n",
      "   macro avg       0.83      0.65      0.70     99762\n",
      "weighted avg       0.94      0.95      0.94     99762\n",
      "\n",
      "\n",
      "==================================================\n",
      "\n",
      "Training Logistic Regression and testing on Top dataset\n",
      "Accuracy: 0.9531\n",
      "Precision: 0.7265\n",
      "Recall: 0.3904\n",
      "F1: 0.5079\n",
      "\n",
      "              precision    recall  f1-score   support\n",
      "\n",
      "       False       0.96      0.99      0.98     93576\n",
      "        True       0.73      0.39      0.51      6186\n",
      "\n",
      "    accuracy                           0.95     99762\n",
      "   macro avg       0.84      0.69      0.74     99762\n",
      "weighted avg       0.95      0.95      0.95     99762\n",
      "\n",
      "\n",
      "==================================================\n",
      "\n"
     ]
    }
   ],
   "source": [
    "# Loop through the datasets, train and test the model on each\n",
    "for i, d in enumerate([datasets_eval, datasets]):\n",
    "    mode = \"EVAL MODE\" if i == 0 else \"TEST MODE\"\n",
    "    print(mode)\n",
    "    # Loop through the datasets, train and test the model on each\n",
    "    for name, (X_train, X_test, y_train, y_test) in d.items():\n",
    "        print(f\"Training Logistic Regression and testing on {name} dataset\")\n",
    "        \n",
    "        lr_model = LogisticRegression(random_state=42)\n",
    "        lr_model.fit(X_train, y_train)\n",
    "        \n",
    "        # Prediction and evaluation\n",
    "        predict_with_scores(X_test, y_test, lr_model)\n",
    "        print(\"\\n\" + \"=\"*50 + \"\\n\")"
   ]
  },
  {
   "cell_type": "markdown",
   "metadata": {},
   "source": [
    "Logistic Regression has the best results (in testing mode) when trained on the whole dataset as well as in the Top-Features dataset. "
   ]
  },
  {
   "cell_type": "markdown",
   "metadata": {},
   "source": [
    "### 4.3 XGBoost"
   ]
  },
  {
   "cell_type": "markdown",
   "metadata": {},
   "source": [
    "We train an XGBoost algorithm which is an implementation of a gradient boosting that is known for its speed and performance."
   ]
  },
  {
   "cell_type": "code",
   "execution_count": 39,
   "metadata": {},
   "outputs": [
    {
     "name": "stdout",
     "output_type": "stream",
     "text": [
      "EVAL MODE\n",
      "Training XGBoost and testing on Original dataset\n"
     ]
    },
    {
     "name": "stdout",
     "output_type": "stream",
     "text": [
      "Accuracy: 0.9447\n",
      "Precision: 0.7699\n",
      "Recall: 0.4677\n",
      "F1: 0.5819\n",
      "\n",
      "              precision    recall  f1-score   support\n",
      "\n",
      "       False       0.95      0.99      0.97     26972\n",
      "        True       0.77      0.47      0.58      2418\n",
      "\n",
      "    accuracy                           0.94     29390\n",
      "   macro avg       0.86      0.73      0.78     29390\n",
      "weighted avg       0.94      0.94      0.94     29390\n",
      "\n",
      "\n",
      "==================================================\n",
      "\n",
      "Training XGBoost and testing on Downsampled dataset\n",
      "Accuracy: 0.8535\n",
      "Precision: 0.8438\n",
      "Recall: 0.8690\n",
      "F1: 0.8562\n",
      "\n",
      "              precision    recall  f1-score   support\n",
      "\n",
      "       False       0.86      0.84      0.85      2462\n",
      "        True       0.84      0.87      0.86      2481\n",
      "\n",
      "    accuracy                           0.85      4943\n",
      "   macro avg       0.85      0.85      0.85      4943\n",
      "weighted avg       0.85      0.85      0.85      4943\n",
      "\n",
      "\n",
      "==================================================\n",
      "\n",
      "Training XGBoost and testing on Oversampled dataset\n",
      "Accuracy: 0.8956\n",
      "Precision: 0.8800\n",
      "Recall: 0.9150\n",
      "F1: 0.8971\n",
      "\n",
      "              precision    recall  f1-score   support\n",
      "\n",
      "       False       0.91      0.88      0.89     27061\n",
      "        True       0.88      0.91      0.90     26775\n",
      "\n",
      "    accuracy                           0.90     53836\n",
      "   macro avg       0.90      0.90      0.90     53836\n",
      "weighted avg       0.90      0.90      0.90     53836\n",
      "\n",
      "\n",
      "==================================================\n",
      "\n",
      "Training XGBoost and testing on PCA dataset\n",
      "Accuracy: 0.9389\n",
      "Precision: 0.7294\n",
      "Recall: 0.4090\n",
      "F1: 0.5241\n",
      "\n",
      "              precision    recall  f1-score   support\n",
      "\n",
      "       False       0.95      0.99      0.97     26972\n",
      "        True       0.73      0.41      0.52      2418\n",
      "\n",
      "    accuracy                           0.94     29390\n",
      "   macro avg       0.84      0.70      0.75     29390\n",
      "weighted avg       0.93      0.94      0.93     29390\n",
      "\n",
      "\n",
      "==================================================\n",
      "\n",
      "Training XGBoost and testing on Top dataset\n",
      "Accuracy: 0.9440\n",
      "Precision: 0.7620\n",
      "Recall: 0.4648\n",
      "F1: 0.5774\n",
      "\n",
      "              precision    recall  f1-score   support\n",
      "\n",
      "       False       0.95      0.99      0.97     26972\n",
      "        True       0.76      0.46      0.58      2418\n",
      "\n",
      "    accuracy                           0.94     29390\n",
      "   macro avg       0.86      0.73      0.77     29390\n",
      "weighted avg       0.94      0.94      0.94     29390\n",
      "\n",
      "\n",
      "==================================================\n",
      "\n",
      "TEST MODE\n",
      "Training XGBoost and testing on Original dataset\n",
      "Accuracy: 0.9578\n",
      "Precision: 0.7636\n",
      "Recall: 0.4638\n",
      "F1: 0.5771\n",
      "\n",
      "              precision    recall  f1-score   support\n",
      "\n",
      "       False       0.97      0.99      0.98     93576\n",
      "        True       0.76      0.46      0.58      6186\n",
      "\n",
      "    accuracy                           0.96     99762\n",
      "   macro avg       0.86      0.73      0.78     99762\n",
      "weighted avg       0.95      0.96      0.95     99762\n",
      "\n",
      "\n",
      "==================================================\n",
      "\n",
      "Training XGBoost and testing on Downsampled dataset\n",
      "Accuracy: 0.8829\n",
      "Precision: 0.3318\n",
      "Recall: 0.8758\n",
      "F1: 0.4813\n",
      "\n",
      "              precision    recall  f1-score   support\n",
      "\n",
      "       False       0.99      0.88      0.93     93576\n",
      "        True       0.33      0.88      0.48      6186\n",
      "\n",
      "    accuracy                           0.88     99762\n",
      "   macro avg       0.66      0.88      0.71     99762\n",
      "weighted avg       0.95      0.88      0.91     99762\n",
      "\n",
      "\n",
      "==================================================\n",
      "\n",
      "Training XGBoost and testing on Oversampled dataset\n",
      "Accuracy: 0.9061\n",
      "Precision: 0.3826\n",
      "Recall: 0.8369\n",
      "F1: 0.5251\n",
      "\n",
      "              precision    recall  f1-score   support\n",
      "\n",
      "       False       0.99      0.91      0.95     93576\n",
      "        True       0.38      0.84      0.53      6186\n",
      "\n",
      "    accuracy                           0.91     99762\n",
      "   macro avg       0.69      0.87      0.74     99762\n",
      "weighted avg       0.95      0.91      0.92     99762\n",
      "\n",
      "\n",
      "==================================================\n",
      "\n",
      "Training XGBoost and testing on PCA dataset\n",
      "Accuracy: 0.9541\n",
      "Precision: 0.7326\n",
      "Recall: 0.4079\n",
      "F1: 0.5240\n",
      "\n",
      "              precision    recall  f1-score   support\n",
      "\n",
      "       False       0.96      0.99      0.98     93576\n",
      "        True       0.73      0.41      0.52      6186\n",
      "\n",
      "    accuracy                           0.95     99762\n",
      "   macro avg       0.85      0.70      0.75     99762\n",
      "weighted avg       0.95      0.95      0.95     99762\n",
      "\n",
      "\n",
      "==================================================\n",
      "\n",
      "Training XGBoost and testing on Top dataset\n",
      "Accuracy: 0.9575\n",
      "Precision: 0.7563\n",
      "Recall: 0.4635\n",
      "F1: 0.5747\n",
      "\n",
      "              precision    recall  f1-score   support\n",
      "\n",
      "       False       0.97      0.99      0.98     93576\n",
      "        True       0.76      0.46      0.57      6186\n",
      "\n",
      "    accuracy                           0.96     99762\n",
      "   macro avg       0.86      0.73      0.78     99762\n",
      "weighted avg       0.95      0.96      0.95     99762\n",
      "\n",
      "\n",
      "==================================================\n",
      "\n"
     ]
    }
   ],
   "source": [
    "def clean_column_names(data):\n",
    "    if isinstance(data, pd.DataFrame):\n",
    "        # Replace invalid characters in column names\n",
    "        clean_names = data.columns.str.replace('[', '_').str.replace(']', '_').str.replace('<', '_')\n",
    "        data.columns = clean_names\n",
    "    return data\n",
    "\n",
    "# Loop through the datasets, train and test the model on each\n",
    "for i, d in enumerate([datasets_eval, datasets]):\n",
    "    mode = \"EVAL MODE\" if i == 0 else \"TEST MODE\"\n",
    "    print(mode)\n",
    "    # Loop through the datasets, train and test the model on each\n",
    "    for name, (X_train, X_test, y_train, y_test) in d.items():\n",
    "        print(f\"Training XGBoost and testing on {name} dataset\")\n",
    "\n",
    "        # Clean the column names for both training and testing sets to met XGB requirements\n",
    "        X_train = clean_column_names(X_train.copy())\n",
    "        X_test = clean_column_names(X_test.copy())\n",
    "        \n",
    "        xgb_model = xgb.XGBClassifier(\n",
    "            objective='binary:logistic',\n",
    "            n_estimators=100,\n",
    "            learning_rate=0.1,\n",
    "            max_depth=10,\n",
    "            use_label_encoder=False,\n",
    "            eval_metric='logloss'\n",
    "        )\n",
    "\n",
    "        # Fit the model on the training data\n",
    "        xgb_model.fit(X_train, y_train)\n",
    "        \n",
    "        # Prediction and evaluation\n",
    "        predict_with_scores(X_test, y_test, xgb_model)\n",
    "        print(\"\\n\" + \"=\"*50 + \"\\n\")"
   ]
  },
  {
   "cell_type": "markdown",
   "metadata": {},
   "source": [
    "XGBoost has the best results (in testing mode) when trained on the whole dataset."
   ]
  },
  {
   "cell_type": "markdown",
   "metadata": {},
   "source": [
    "### 4.4 Neural Network"
   ]
  },
  {
   "cell_type": "markdown",
   "metadata": {},
   "source": [
    "We build a simple neural network for binary classification with one hidden layer of 10 neurons, utilizing ReLU and sigmoid activation functions to process inputs based on their size and output a single probability score indicating class membership."
   ]
  },
  {
   "cell_type": "code",
   "execution_count": 40,
   "metadata": {},
   "outputs": [
    {
     "name": "stdout",
     "output_type": "stream",
     "text": [
      "EVAL MODE\n",
      "Training NN and testing on Original dataset\n"
     ]
    },
    {
     "name": "stdout",
     "output_type": "stream",
     "text": [
      "Accuracy: 0.9395\n",
      "Precision: 0.7159\n",
      "Recall: 0.4388\n",
      "F1: 0.5441\n",
      "\n",
      "              precision    recall  f1-score   support\n",
      "\n",
      "       False       0.95      0.98      0.97     26972\n",
      "        True       0.72      0.44      0.54      2418\n",
      "\n",
      "    accuracy                           0.94     29390\n",
      "   macro avg       0.83      0.71      0.76     29390\n",
      "weighted avg       0.93      0.94      0.93     29390\n",
      "\n",
      "\n",
      "==================================================\n",
      "\n",
      "Training NN and testing on Downsampled dataset\n",
      "Accuracy: 0.8416\n",
      "Precision: 0.8573\n",
      "Recall: 0.8210\n",
      "F1: 0.8388\n",
      "\n",
      "              precision    recall  f1-score   support\n",
      "\n",
      "       False       0.83      0.86      0.84      2462\n",
      "        True       0.86      0.82      0.84      2481\n",
      "\n",
      "    accuracy                           0.84      4943\n",
      "   macro avg       0.84      0.84      0.84      4943\n",
      "weighted avg       0.84      0.84      0.84      4943\n",
      "\n",
      "\n",
      "==================================================\n",
      "\n",
      "Training NN and testing on Oversampled dataset\n",
      "Accuracy: 0.8631\n",
      "Precision: 0.8433\n",
      "Recall: 0.8901\n",
      "F1: 0.8661\n",
      "\n",
      "              precision    recall  f1-score   support\n",
      "\n",
      "       False       0.88      0.84      0.86     27061\n",
      "        True       0.84      0.89      0.87     26775\n",
      "\n",
      "    accuracy                           0.86     53836\n",
      "   macro avg       0.86      0.86      0.86     53836\n",
      "weighted avg       0.86      0.86      0.86     53836\n",
      "\n",
      "\n",
      "==================================================\n",
      "\n",
      "Training NN and testing on PCA dataset\n",
      "Accuracy: 0.9362\n",
      "Precision: 0.7132\n",
      "Recall: 0.3763\n",
      "F1: 0.4927\n",
      "\n",
      "              precision    recall  f1-score   support\n",
      "\n",
      "       False       0.95      0.99      0.97     26972\n",
      "        True       0.71      0.38      0.49      2418\n",
      "\n",
      "    accuracy                           0.94     29390\n",
      "   macro avg       0.83      0.68      0.73     29390\n",
      "weighted avg       0.93      0.94      0.93     29390\n",
      "\n",
      "\n",
      "==================================================\n",
      "\n",
      "Training NN and testing on Top dataset\n",
      "Accuracy: 0.9404\n",
      "Precision: 0.7817\n",
      "Recall: 0.3821\n",
      "F1: 0.5133\n",
      "\n",
      "              precision    recall  f1-score   support\n",
      "\n",
      "       False       0.95      0.99      0.97     26972\n",
      "        True       0.78      0.38      0.51      2418\n",
      "\n",
      "    accuracy                           0.94     29390\n",
      "   macro avg       0.86      0.69      0.74     29390\n",
      "weighted avg       0.93      0.94      0.93     29390\n",
      "\n",
      "\n",
      "==================================================\n",
      "\n",
      "TEST MODE\n",
      "Training NN and testing on Original dataset\n",
      "Accuracy: 0.9548\n",
      "Precision: 0.7128\n",
      "Recall: 0.4538\n",
      "F1: 0.5545\n",
      "\n",
      "              precision    recall  f1-score   support\n",
      "\n",
      "       False       0.96      0.99      0.98     93576\n",
      "        True       0.71      0.45      0.55      6186\n",
      "\n",
      "    accuracy                           0.95     99762\n",
      "   macro avg       0.84      0.72      0.77     99762\n",
      "weighted avg       0.95      0.95      0.95     99762\n",
      "\n",
      "\n",
      "==================================================\n",
      "\n",
      "Training NN and testing on Downsampled dataset\n",
      "Accuracy: 0.8622\n",
      "Precision: 0.2961\n",
      "Recall: 0.8880\n",
      "F1: 0.4441\n",
      "\n",
      "              precision    recall  f1-score   support\n",
      "\n",
      "       False       0.99      0.86      0.92     93576\n",
      "        True       0.30      0.89      0.44      6186\n",
      "\n",
      "    accuracy                           0.86     99762\n",
      "   macro avg       0.64      0.87      0.68     99762\n",
      "weighted avg       0.95      0.86      0.89     99762\n",
      "\n",
      "\n",
      "==================================================\n",
      "\n",
      "Training NN and testing on Oversampled dataset\n",
      "Accuracy: 0.8786\n",
      "Precision: 0.3216\n",
      "Recall: 0.8639\n",
      "F1: 0.4687\n",
      "\n",
      "              precision    recall  f1-score   support\n",
      "\n",
      "       False       0.99      0.88      0.93     93576\n",
      "        True       0.32      0.86      0.47      6186\n",
      "\n",
      "    accuracy                           0.88     99762\n",
      "   macro avg       0.66      0.87      0.70     99762\n",
      "weighted avg       0.95      0.88      0.90     99762\n",
      "\n",
      "\n",
      "==================================================\n",
      "\n",
      "Training NN and testing on PCA dataset\n",
      "Accuracy: 0.9514\n",
      "Precision: 0.7182\n",
      "Recall: 0.3552\n",
      "F1: 0.4753\n",
      "\n",
      "              precision    recall  f1-score   support\n",
      "\n",
      "       False       0.96      0.99      0.97     93576\n",
      "        True       0.72      0.36      0.48      6186\n",
      "\n",
      "    accuracy                           0.95     99762\n",
      "   macro avg       0.84      0.67      0.72     99762\n",
      "weighted avg       0.94      0.95      0.94     99762\n",
      "\n",
      "\n",
      "==================================================\n",
      "\n",
      "Training NN and testing on Top dataset\n",
      "Accuracy: 0.9543\n",
      "Precision: 0.6940\n",
      "Recall: 0.4701\n",
      "F1: 0.5605\n",
      "\n",
      "              precision    recall  f1-score   support\n",
      "\n",
      "       False       0.97      0.99      0.98     93576\n",
      "        True       0.69      0.47      0.56      6186\n",
      "\n",
      "    accuracy                           0.95     99762\n",
      "   macro avg       0.83      0.73      0.77     99762\n",
      "weighted avg       0.95      0.95      0.95     99762\n",
      "\n",
      "\n",
      "==================================================\n",
      "\n"
     ]
    }
   ],
   "source": [
    "class BinaryClassificationModel(nn.Module):\n",
    "    def __init__(self, input_size):\n",
    "        super(BinaryClassificationModel, self).__init__()\n",
    "        self.layer_1 = nn.Linear(input_size, 10)\n",
    "        self.layer_out = nn.Linear(10, 1)\n",
    "        self.relu = nn.ReLU()\n",
    "        self.sigmoid = nn.Sigmoid()\n",
    "    \n",
    "    def forward(self, inputs):\n",
    "        x = self.relu(self.layer_1(inputs))\n",
    "        x = self.sigmoid(self.layer_out(x))\n",
    "        return x\n",
    "\n",
    "# Loop through the datasets, train and test the model on each\n",
    "for i, d in enumerate([datasets_eval, datasets]):\n",
    "    mode = \"EVAL MODE\" if i == 0 else \"TEST MODE\"\n",
    "    print(mode)\n",
    "    for name, (X_train, X_test, y_train, y_test) in d.items():\n",
    "        print(f\"Training NN and testing on {name} dataset\")\n",
    "        \n",
    "        # Check if X_train and X_test are pandas DataFrames and convert accordingly\n",
    "        if isinstance(X_train, pd.DataFrame):\n",
    "            X_train_tensor = torch.tensor(X_train.values.astype(np.float32))\n",
    "            X_test_tensor = torch.tensor(X_test.values.astype(np.float32))\n",
    "        else:  # Assuming numpy arrays if not pandas DataFrame\n",
    "            X_train_tensor = torch.tensor(X_train.astype(np.float32))\n",
    "            X_test_tensor = torch.tensor(X_test.astype(np.float32))\n",
    "        \n",
    "        # For y_train and y_test, assuming they're always lists and converting to numpy arrays, then to tensors\n",
    "        y_train_tensor = torch.tensor(np.array(y_train).astype(np.float32).reshape(-1, 1))\n",
    "        y_test_tensor = torch.tensor(np.array(y_test).astype(np.float32).reshape(-1, 1))\n",
    "        \n",
    "        # Create TensorDatasets and DataLoaders\n",
    "        train_dataset = TensorDataset(X_train_tensor, y_train_tensor)\n",
    "        train_loader = DataLoader(dataset=train_dataset, batch_size=10, shuffle=True)\n",
    "        \n",
    "        # Initialize the model\n",
    "        model = BinaryClassificationModel(X_train.shape[1])\n",
    "        \n",
    "        # Loss and optimizer\n",
    "        criterion = nn.BCELoss()\n",
    "        optimizer = optim.Adam(model.parameters(), lr=0.001)\n",
    "        \n",
    "        # Train the model\n",
    "        model.train()\n",
    "        for epoch in range(10):  # 100 epochs\n",
    "            for inputs, labels in train_loader:\n",
    "                # Forward pass\n",
    "                outputs = model(inputs)\n",
    "                loss = criterion(outputs, labels)\n",
    "                \n",
    "                # Backward and optimize\n",
    "                optimizer.zero_grad()\n",
    "                loss.backward()\n",
    "                optimizer.step()\n",
    "        \n",
    "        # Evaluate the model\n",
    "        model.eval()\n",
    "        with torch.no_grad():\n",
    "            outputs = model(X_test_tensor)\n",
    "            y_pred = (outputs.numpy() > 0.5).astype(int)\n",
    "\n",
    "        # Calculate scores\n",
    "        accuracy = accuracy_score(y_test, y_pred)\n",
    "        precision = precision_score(y_test, y_pred)\n",
    "        recall = recall_score(y_test, y_pred)\n",
    "        f1 = f1_score(y_test, y_pred)\n",
    "        report = classification_report(y_test, y_pred)\n",
    "\n",
    "        # Print scores\n",
    "        print(f\"Accuracy: {accuracy:.4f}\")\n",
    "        print(f\"Precision: {precision:.4f}\")\n",
    "        print(f\"Recall: {recall:.4f}\")\n",
    "        print(f\"F1: {f1:.4f}\\n\")\n",
    "        print(report)\n",
    "        print(\"\\n\" + \"=\"*50 + \"\\n\")"
   ]
  },
  {
   "cell_type": "markdown",
   "metadata": {},
   "source": [
    "The Neural Network built has the best results (in testing mode) when trained on the whole dataset."
   ]
  }
 ],
 "metadata": {
  "kernelspec": {
   "display_name": ".venv",
   "language": "python",
   "name": "python3"
  },
  "language_info": {
   "codemirror_mode": {
    "name": "ipython",
    "version": 3
   },
   "file_extension": ".py",
   "mimetype": "text/x-python",
   "name": "python",
   "nbconvert_exporter": "python",
   "pygments_lexer": "ipython3",
   "version": "3.12.2"
  }
 },
 "nbformat": 4,
 "nbformat_minor": 2
}
